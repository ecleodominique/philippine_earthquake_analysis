{
  "nbformat": 4,
  "nbformat_minor": 0,
  "metadata": {
    "colab": {
      "provenance": []
    },
    "kernelspec": {
      "name": "python3",
      "display_name": "Python 3"
    },
    "language_info": {
      "name": "python"
    }
  },
  "cells": [
    {
      "cell_type": "markdown",
      "source": [
        "# Importing libraries and loading data"
      ],
      "metadata": {
        "id": "rtt0BUH6Go0X"
      }
    },
    {
      "cell_type": "markdown",
      "source": [
        "*I’m using Google Colab when making this notebook. I use web scraper, a google chrome extension to get data from PHIVOLCS Latest Earthquake Information (link: https://earthquake.phivolcs.dost.gov.ph/). The available data is from 2018 up to the present.*"
      ],
      "metadata": {
        "id": "pfHps9iEiXca"
      }
    },
    {
      "cell_type": "code",
      "execution_count": null,
      "metadata": {
        "id": "DwcsntLyKY6F"
      },
      "outputs": [],
      "source": [
        "# Importing Libraries\n",
        "import numpy as np\n",
        "import pandas as pd\n",
        "import plotly.express as px\n",
        "import matplotlib.pyplot as plt\n",
        "import seaborn as sns\n",
        "import datetime"
      ]
    },
    {
      "cell_type": "code",
      "source": [
        "#loading the data\n",
        "df_raw = pd.read_csv(\"/content/Raw_earthquake.csv\")\n",
        "df_raw"
      ],
      "metadata": {
        "id": "uJFy7TJcKxnR",
        "colab": {
          "base_uri": "https://localhost:8080/",
          "height": 1000
        },
        "outputId": "bf45e3cc-031a-473f-c176-1d7e2f4ba44a"
      },
      "execution_count": null,
      "outputs": [
        {
          "output_type": "execute_result",
          "data": {
            "text/plain": [
              "       web-scraper-order                     web-scraper-start-url Pagination  \\\n",
              "0      1677352702-172448  https://earthquake.phivolcs.dost.gov.ph/        Dec   \n",
              "1      1677352702-172449  https://earthquake.phivolcs.dost.gov.ph/        Dec   \n",
              "2      1677352702-172450  https://earthquake.phivolcs.dost.gov.ph/        Dec   \n",
              "3      1677352702-172451  https://earthquake.phivolcs.dost.gov.ph/        Dec   \n",
              "4      1677352702-172452  https://earthquake.phivolcs.dost.gov.ph/        Dec   \n",
              "...                  ...                                       ...        ...   \n",
              "59790  1677352702-232238  https://earthquake.phivolcs.dost.gov.ph/        Jan   \n",
              "59791  1677352702-232239  https://earthquake.phivolcs.dost.gov.ph/        Jan   \n",
              "59792  1677352702-232240  https://earthquake.phivolcs.dost.gov.ph/        Jan   \n",
              "59793  1677352702-232241  https://earthquake.phivolcs.dost.gov.ph/        Jan   \n",
              "59794  1677352702-232242  https://earthquake.phivolcs.dost.gov.ph/        Jan   \n",
              "\n",
              "                                         Pagination-href  \\\n",
              "0      https://earthquake.phivolcs.dost.gov.ph/EQLate...   \n",
              "1      https://earthquake.phivolcs.dost.gov.ph/EQLate...   \n",
              "2      https://earthquake.phivolcs.dost.gov.ph/EQLate...   \n",
              "3      https://earthquake.phivolcs.dost.gov.ph/EQLate...   \n",
              "4      https://earthquake.phivolcs.dost.gov.ph/EQLate...   \n",
              "...                                                  ...   \n",
              "59790  https://earthquake.phivolcs.dost.gov.ph/EQLate...   \n",
              "59791  https://earthquake.phivolcs.dost.gov.ph/EQLate...   \n",
              "59792  https://earthquake.phivolcs.dost.gov.ph/EQLate...   \n",
              "59793  https://earthquake.phivolcs.dost.gov.ph/EQLate...   \n",
              "59794  https://earthquake.phivolcs.dost.gov.ph/EQLate...   \n",
              "\n",
              "      Date - Time (Philippine Time) Latitude Longitude Depth_km  Mag  \\\n",
              "0       31 December 2018 - 10:47 PM     8.62    126.01       10  2.0   \n",
              "1       31 December 2018 - 10:16 PM    12.92     122.8       14  2.5   \n",
              "2       31 December 2018 - 10:14 PM     5.61    126.92       32  3.7   \n",
              "3       31 December 2018 - 07:43 PM     5.52    126.96       31  2.7   \n",
              "4       31 December 2018 - 06:46 PM     5.48    126.35        1  3.2   \n",
              "...                             ...      ...       ...      ...  ...   \n",
              "59790    01 January 2022 - 02:39 AM    14.01    120.44      121  2.6   \n",
              "59791    01 January 2022 - 02:27 AM     10.6    125.81       12  2.3   \n",
              "59792    01 January 2022 - 02:17 AM     7.04    126.66       26  4.2   \n",
              "59793    01 January 2022 - 01:24 AM    13.44    120.16       28  2.1   \n",
              "59794    01 January 2022 - 12:06 AM     5.76    124.56        3  2.6   \n",
              "\n",
              "                                                Location  \n",
              "0         011 km N 61° E of Prosperidad (Agusan Del Sur)  \n",
              "1                   040 km N 80° W of Claveria (Masbate)  \n",
              "2      148 km S 39° E of Governor Generoso (Davao Ori...  \n",
              "3      159 km S 38° E of Governor Generoso (Davao Ori...  \n",
              "4      093 km S 61° E of Jose Abad Santos (Davao Occi...  \n",
              "...                                                  ...  \n",
              "59790               021 km S 72° W of Nasugbu (Batangas)  \n",
              "59791  019 km S 32° E of Homonhon Island (Guiuan) (Ea...  \n",
              "59792           023 km S 35° E of Manay (Davao Oriental)  \n",
              "59793      033 km N 85° W of Paluan (Occidental Mindoro)  \n",
              "59794               026 km S 15° W of Kiamba (Sarangani)  \n",
              "\n",
              "[59795 rows x 10 columns]"
            ],
            "text/html": [
              "\n",
              "  <div id=\"df-7ccab453-7bdc-41d6-87fc-7a1a54969a8f\">\n",
              "    <div class=\"colab-df-container\">\n",
              "      <div>\n",
              "<style scoped>\n",
              "    .dataframe tbody tr th:only-of-type {\n",
              "        vertical-align: middle;\n",
              "    }\n",
              "\n",
              "    .dataframe tbody tr th {\n",
              "        vertical-align: top;\n",
              "    }\n",
              "\n",
              "    .dataframe thead th {\n",
              "        text-align: right;\n",
              "    }\n",
              "</style>\n",
              "<table border=\"1\" class=\"dataframe\">\n",
              "  <thead>\n",
              "    <tr style=\"text-align: right;\">\n",
              "      <th></th>\n",
              "      <th>web-scraper-order</th>\n",
              "      <th>web-scraper-start-url</th>\n",
              "      <th>Pagination</th>\n",
              "      <th>Pagination-href</th>\n",
              "      <th>Date - Time (Philippine Time)</th>\n",
              "      <th>Latitude</th>\n",
              "      <th>Longitude</th>\n",
              "      <th>Depth_km</th>\n",
              "      <th>Mag</th>\n",
              "      <th>Location</th>\n",
              "    </tr>\n",
              "  </thead>\n",
              "  <tbody>\n",
              "    <tr>\n",
              "      <th>0</th>\n",
              "      <td>1677352702-172448</td>\n",
              "      <td>https://earthquake.phivolcs.dost.gov.ph/</td>\n",
              "      <td>Dec</td>\n",
              "      <td>https://earthquake.phivolcs.dost.gov.ph/EQLate...</td>\n",
              "      <td>31 December 2018 - 10:47 PM</td>\n",
              "      <td>8.62</td>\n",
              "      <td>126.01</td>\n",
              "      <td>10</td>\n",
              "      <td>2.0</td>\n",
              "      <td>011 km N 61° E of Prosperidad (Agusan Del Sur)</td>\n",
              "    </tr>\n",
              "    <tr>\n",
              "      <th>1</th>\n",
              "      <td>1677352702-172449</td>\n",
              "      <td>https://earthquake.phivolcs.dost.gov.ph/</td>\n",
              "      <td>Dec</td>\n",
              "      <td>https://earthquake.phivolcs.dost.gov.ph/EQLate...</td>\n",
              "      <td>31 December 2018 - 10:16 PM</td>\n",
              "      <td>12.92</td>\n",
              "      <td>122.8</td>\n",
              "      <td>14</td>\n",
              "      <td>2.5</td>\n",
              "      <td>040 km N 80° W of Claveria (Masbate)</td>\n",
              "    </tr>\n",
              "    <tr>\n",
              "      <th>2</th>\n",
              "      <td>1677352702-172450</td>\n",
              "      <td>https://earthquake.phivolcs.dost.gov.ph/</td>\n",
              "      <td>Dec</td>\n",
              "      <td>https://earthquake.phivolcs.dost.gov.ph/EQLate...</td>\n",
              "      <td>31 December 2018 - 10:14 PM</td>\n",
              "      <td>5.61</td>\n",
              "      <td>126.92</td>\n",
              "      <td>32</td>\n",
              "      <td>3.7</td>\n",
              "      <td>148 km S 39° E of Governor Generoso (Davao Ori...</td>\n",
              "    </tr>\n",
              "    <tr>\n",
              "      <th>3</th>\n",
              "      <td>1677352702-172451</td>\n",
              "      <td>https://earthquake.phivolcs.dost.gov.ph/</td>\n",
              "      <td>Dec</td>\n",
              "      <td>https://earthquake.phivolcs.dost.gov.ph/EQLate...</td>\n",
              "      <td>31 December 2018 - 07:43 PM</td>\n",
              "      <td>5.52</td>\n",
              "      <td>126.96</td>\n",
              "      <td>31</td>\n",
              "      <td>2.7</td>\n",
              "      <td>159 km S 38° E of Governor Generoso (Davao Ori...</td>\n",
              "    </tr>\n",
              "    <tr>\n",
              "      <th>4</th>\n",
              "      <td>1677352702-172452</td>\n",
              "      <td>https://earthquake.phivolcs.dost.gov.ph/</td>\n",
              "      <td>Dec</td>\n",
              "      <td>https://earthquake.phivolcs.dost.gov.ph/EQLate...</td>\n",
              "      <td>31 December 2018 - 06:46 PM</td>\n",
              "      <td>5.48</td>\n",
              "      <td>126.35</td>\n",
              "      <td>1</td>\n",
              "      <td>3.2</td>\n",
              "      <td>093 km S 61° E of Jose Abad Santos (Davao Occi...</td>\n",
              "    </tr>\n",
              "    <tr>\n",
              "      <th>...</th>\n",
              "      <td>...</td>\n",
              "      <td>...</td>\n",
              "      <td>...</td>\n",
              "      <td>...</td>\n",
              "      <td>...</td>\n",
              "      <td>...</td>\n",
              "      <td>...</td>\n",
              "      <td>...</td>\n",
              "      <td>...</td>\n",
              "      <td>...</td>\n",
              "    </tr>\n",
              "    <tr>\n",
              "      <th>59790</th>\n",
              "      <td>1677352702-232238</td>\n",
              "      <td>https://earthquake.phivolcs.dost.gov.ph/</td>\n",
              "      <td>Jan</td>\n",
              "      <td>https://earthquake.phivolcs.dost.gov.ph/EQLate...</td>\n",
              "      <td>01 January 2022 - 02:39 AM</td>\n",
              "      <td>14.01</td>\n",
              "      <td>120.44</td>\n",
              "      <td>121</td>\n",
              "      <td>2.6</td>\n",
              "      <td>021 km S 72° W of Nasugbu (Batangas)</td>\n",
              "    </tr>\n",
              "    <tr>\n",
              "      <th>59791</th>\n",
              "      <td>1677352702-232239</td>\n",
              "      <td>https://earthquake.phivolcs.dost.gov.ph/</td>\n",
              "      <td>Jan</td>\n",
              "      <td>https://earthquake.phivolcs.dost.gov.ph/EQLate...</td>\n",
              "      <td>01 January 2022 - 02:27 AM</td>\n",
              "      <td>10.6</td>\n",
              "      <td>125.81</td>\n",
              "      <td>12</td>\n",
              "      <td>2.3</td>\n",
              "      <td>019 km S 32° E of Homonhon Island (Guiuan) (Ea...</td>\n",
              "    </tr>\n",
              "    <tr>\n",
              "      <th>59792</th>\n",
              "      <td>1677352702-232240</td>\n",
              "      <td>https://earthquake.phivolcs.dost.gov.ph/</td>\n",
              "      <td>Jan</td>\n",
              "      <td>https://earthquake.phivolcs.dost.gov.ph/EQLate...</td>\n",
              "      <td>01 January 2022 - 02:17 AM</td>\n",
              "      <td>7.04</td>\n",
              "      <td>126.66</td>\n",
              "      <td>26</td>\n",
              "      <td>4.2</td>\n",
              "      <td>023 km S 35° E of Manay (Davao Oriental)</td>\n",
              "    </tr>\n",
              "    <tr>\n",
              "      <th>59793</th>\n",
              "      <td>1677352702-232241</td>\n",
              "      <td>https://earthquake.phivolcs.dost.gov.ph/</td>\n",
              "      <td>Jan</td>\n",
              "      <td>https://earthquake.phivolcs.dost.gov.ph/EQLate...</td>\n",
              "      <td>01 January 2022 - 01:24 AM</td>\n",
              "      <td>13.44</td>\n",
              "      <td>120.16</td>\n",
              "      <td>28</td>\n",
              "      <td>2.1</td>\n",
              "      <td>033 km N 85° W of Paluan (Occidental Mindoro)</td>\n",
              "    </tr>\n",
              "    <tr>\n",
              "      <th>59794</th>\n",
              "      <td>1677352702-232242</td>\n",
              "      <td>https://earthquake.phivolcs.dost.gov.ph/</td>\n",
              "      <td>Jan</td>\n",
              "      <td>https://earthquake.phivolcs.dost.gov.ph/EQLate...</td>\n",
              "      <td>01 January 2022 - 12:06 AM</td>\n",
              "      <td>5.76</td>\n",
              "      <td>124.56</td>\n",
              "      <td>3</td>\n",
              "      <td>2.6</td>\n",
              "      <td>026 km S 15° W of Kiamba (Sarangani)</td>\n",
              "    </tr>\n",
              "  </tbody>\n",
              "</table>\n",
              "<p>59795 rows × 10 columns</p>\n",
              "</div>\n",
              "      <button class=\"colab-df-convert\" onclick=\"convertToInteractive('df-7ccab453-7bdc-41d6-87fc-7a1a54969a8f')\"\n",
              "              title=\"Convert this dataframe to an interactive table.\"\n",
              "              style=\"display:none;\">\n",
              "        \n",
              "  <svg xmlns=\"http://www.w3.org/2000/svg\" height=\"24px\"viewBox=\"0 0 24 24\"\n",
              "       width=\"24px\">\n",
              "    <path d=\"M0 0h24v24H0V0z\" fill=\"none\"/>\n",
              "    <path d=\"M18.56 5.44l.94 2.06.94-2.06 2.06-.94-2.06-.94-.94-2.06-.94 2.06-2.06.94zm-11 1L8.5 8.5l.94-2.06 2.06-.94-2.06-.94L8.5 2.5l-.94 2.06-2.06.94zm10 10l.94 2.06.94-2.06 2.06-.94-2.06-.94-.94-2.06-.94 2.06-2.06.94z\"/><path d=\"M17.41 7.96l-1.37-1.37c-.4-.4-.92-.59-1.43-.59-.52 0-1.04.2-1.43.59L10.3 9.45l-7.72 7.72c-.78.78-.78 2.05 0 2.83L4 21.41c.39.39.9.59 1.41.59.51 0 1.02-.2 1.41-.59l7.78-7.78 2.81-2.81c.8-.78.8-2.07 0-2.86zM5.41 20L4 18.59l7.72-7.72 1.47 1.35L5.41 20z\"/>\n",
              "  </svg>\n",
              "      </button>\n",
              "      \n",
              "  <style>\n",
              "    .colab-df-container {\n",
              "      display:flex;\n",
              "      flex-wrap:wrap;\n",
              "      gap: 12px;\n",
              "    }\n",
              "\n",
              "    .colab-df-convert {\n",
              "      background-color: #E8F0FE;\n",
              "      border: none;\n",
              "      border-radius: 50%;\n",
              "      cursor: pointer;\n",
              "      display: none;\n",
              "      fill: #1967D2;\n",
              "      height: 32px;\n",
              "      padding: 0 0 0 0;\n",
              "      width: 32px;\n",
              "    }\n",
              "\n",
              "    .colab-df-convert:hover {\n",
              "      background-color: #E2EBFA;\n",
              "      box-shadow: 0px 1px 2px rgba(60, 64, 67, 0.3), 0px 1px 3px 1px rgba(60, 64, 67, 0.15);\n",
              "      fill: #174EA6;\n",
              "    }\n",
              "\n",
              "    [theme=dark] .colab-df-convert {\n",
              "      background-color: #3B4455;\n",
              "      fill: #D2E3FC;\n",
              "    }\n",
              "\n",
              "    [theme=dark] .colab-df-convert:hover {\n",
              "      background-color: #434B5C;\n",
              "      box-shadow: 0px 1px 3px 1px rgba(0, 0, 0, 0.15);\n",
              "      filter: drop-shadow(0px 1px 2px rgba(0, 0, 0, 0.3));\n",
              "      fill: #FFFFFF;\n",
              "    }\n",
              "  </style>\n",
              "\n",
              "      <script>\n",
              "        const buttonEl =\n",
              "          document.querySelector('#df-7ccab453-7bdc-41d6-87fc-7a1a54969a8f button.colab-df-convert');\n",
              "        buttonEl.style.display =\n",
              "          google.colab.kernel.accessAllowed ? 'block' : 'none';\n",
              "\n",
              "        async function convertToInteractive(key) {\n",
              "          const element = document.querySelector('#df-7ccab453-7bdc-41d6-87fc-7a1a54969a8f');\n",
              "          const dataTable =\n",
              "            await google.colab.kernel.invokeFunction('convertToInteractive',\n",
              "                                                     [key], {});\n",
              "          if (!dataTable) return;\n",
              "\n",
              "          const docLinkHtml = 'Like what you see? Visit the ' +\n",
              "            '<a target=\"_blank\" href=https://colab.research.google.com/notebooks/data_table.ipynb>data table notebook</a>'\n",
              "            + ' to learn more about interactive tables.';\n",
              "          element.innerHTML = '';\n",
              "          dataTable['output_type'] = 'display_data';\n",
              "          await google.colab.output.renderOutput(dataTable, element);\n",
              "          const docLink = document.createElement('div');\n",
              "          docLink.innerHTML = docLinkHtml;\n",
              "          element.appendChild(docLink);\n",
              "        }\n",
              "      </script>\n",
              "    </div>\n",
              "  </div>\n",
              "  "
            ]
          },
          "metadata": {},
          "execution_count": 47
        }
      ]
    },
    {
      "cell_type": "markdown",
      "source": [
        "# PreProcessing"
      ],
      "metadata": {
        "id": "_uJtguC2GH1E"
      }
    },
    {
      "cell_type": "code",
      "source": [
        "#Checking null data\n",
        "nan_count01 = df_raw.isna().sum()\n",
        "print(nan_count01)"
      ],
      "metadata": {
        "id": "SWH0-3joEq5_",
        "colab": {
          "base_uri": "https://localhost:8080/"
        },
        "outputId": "d0501c3b-f025-4ee9-dd25-2ecb7da9be26"
      },
      "execution_count": null,
      "outputs": [
        {
          "output_type": "stream",
          "name": "stdout",
          "text": [
            "web-scraper-order                0\n",
            "web-scraper-start-url            0\n",
            "Pagination                       0\n",
            "Pagination-href                  0\n",
            "Date - Time (Philippine Time)    0\n",
            "Latitude                         0\n",
            "Longitude                        0\n",
            "Depth_km                         1\n",
            "Mag                              1\n",
            "Location                         0\n",
            "dtype: int64\n"
          ]
        }
      ]
    },
    {
      "cell_type": "code",
      "source": [
        "#Creating dataframe with needed data\n",
        "df_new = df_raw[['Date - Time (Philippine Time)','Latitude','Longitude','Depth_km', 'Mag', 'Location']]\n",
        "df_new"
      ],
      "metadata": {
        "id": "ISbH6Ia5kDuZ",
        "colab": {
          "base_uri": "https://localhost:8080/",
          "height": 423
        },
        "outputId": "2dd2b035-20ad-45b3-d699-3a400322923b"
      },
      "execution_count": null,
      "outputs": [
        {
          "output_type": "execute_result",
          "data": {
            "text/plain": [
              "      Date - Time (Philippine Time) Latitude Longitude Depth_km  Mag  \\\n",
              "0       31 December 2018 - 10:47 PM     8.62    126.01       10  2.0   \n",
              "1       31 December 2018 - 10:16 PM    12.92     122.8       14  2.5   \n",
              "2       31 December 2018 - 10:14 PM     5.61    126.92       32  3.7   \n",
              "3       31 December 2018 - 07:43 PM     5.52    126.96       31  2.7   \n",
              "4       31 December 2018 - 06:46 PM     5.48    126.35        1  3.2   \n",
              "...                             ...      ...       ...      ...  ...   \n",
              "59790    01 January 2022 - 02:39 AM    14.01    120.44      121  2.6   \n",
              "59791    01 January 2022 - 02:27 AM     10.6    125.81       12  2.3   \n",
              "59792    01 January 2022 - 02:17 AM     7.04    126.66       26  4.2   \n",
              "59793    01 January 2022 - 01:24 AM    13.44    120.16       28  2.1   \n",
              "59794    01 January 2022 - 12:06 AM     5.76    124.56        3  2.6   \n",
              "\n",
              "                                                Location  \n",
              "0         011 km N 61° E of Prosperidad (Agusan Del Sur)  \n",
              "1                   040 km N 80° W of Claveria (Masbate)  \n",
              "2      148 km S 39° E of Governor Generoso (Davao Ori...  \n",
              "3      159 km S 38° E of Governor Generoso (Davao Ori...  \n",
              "4      093 km S 61° E of Jose Abad Santos (Davao Occi...  \n",
              "...                                                  ...  \n",
              "59790               021 km S 72° W of Nasugbu (Batangas)  \n",
              "59791  019 km S 32° E of Homonhon Island (Guiuan) (Ea...  \n",
              "59792           023 km S 35° E of Manay (Davao Oriental)  \n",
              "59793      033 km N 85° W of Paluan (Occidental Mindoro)  \n",
              "59794               026 km S 15° W of Kiamba (Sarangani)  \n",
              "\n",
              "[59795 rows x 6 columns]"
            ],
            "text/html": [
              "\n",
              "  <div id=\"df-fb9eaa52-0c5c-482d-b8d8-515caf46b78f\">\n",
              "    <div class=\"colab-df-container\">\n",
              "      <div>\n",
              "<style scoped>\n",
              "    .dataframe tbody tr th:only-of-type {\n",
              "        vertical-align: middle;\n",
              "    }\n",
              "\n",
              "    .dataframe tbody tr th {\n",
              "        vertical-align: top;\n",
              "    }\n",
              "\n",
              "    .dataframe thead th {\n",
              "        text-align: right;\n",
              "    }\n",
              "</style>\n",
              "<table border=\"1\" class=\"dataframe\">\n",
              "  <thead>\n",
              "    <tr style=\"text-align: right;\">\n",
              "      <th></th>\n",
              "      <th>Date - Time (Philippine Time)</th>\n",
              "      <th>Latitude</th>\n",
              "      <th>Longitude</th>\n",
              "      <th>Depth_km</th>\n",
              "      <th>Mag</th>\n",
              "      <th>Location</th>\n",
              "    </tr>\n",
              "  </thead>\n",
              "  <tbody>\n",
              "    <tr>\n",
              "      <th>0</th>\n",
              "      <td>31 December 2018 - 10:47 PM</td>\n",
              "      <td>8.62</td>\n",
              "      <td>126.01</td>\n",
              "      <td>10</td>\n",
              "      <td>2.0</td>\n",
              "      <td>011 km N 61° E of Prosperidad (Agusan Del Sur)</td>\n",
              "    </tr>\n",
              "    <tr>\n",
              "      <th>1</th>\n",
              "      <td>31 December 2018 - 10:16 PM</td>\n",
              "      <td>12.92</td>\n",
              "      <td>122.8</td>\n",
              "      <td>14</td>\n",
              "      <td>2.5</td>\n",
              "      <td>040 km N 80° W of Claveria (Masbate)</td>\n",
              "    </tr>\n",
              "    <tr>\n",
              "      <th>2</th>\n",
              "      <td>31 December 2018 - 10:14 PM</td>\n",
              "      <td>5.61</td>\n",
              "      <td>126.92</td>\n",
              "      <td>32</td>\n",
              "      <td>3.7</td>\n",
              "      <td>148 km S 39° E of Governor Generoso (Davao Ori...</td>\n",
              "    </tr>\n",
              "    <tr>\n",
              "      <th>3</th>\n",
              "      <td>31 December 2018 - 07:43 PM</td>\n",
              "      <td>5.52</td>\n",
              "      <td>126.96</td>\n",
              "      <td>31</td>\n",
              "      <td>2.7</td>\n",
              "      <td>159 km S 38° E of Governor Generoso (Davao Ori...</td>\n",
              "    </tr>\n",
              "    <tr>\n",
              "      <th>4</th>\n",
              "      <td>31 December 2018 - 06:46 PM</td>\n",
              "      <td>5.48</td>\n",
              "      <td>126.35</td>\n",
              "      <td>1</td>\n",
              "      <td>3.2</td>\n",
              "      <td>093 km S 61° E of Jose Abad Santos (Davao Occi...</td>\n",
              "    </tr>\n",
              "    <tr>\n",
              "      <th>...</th>\n",
              "      <td>...</td>\n",
              "      <td>...</td>\n",
              "      <td>...</td>\n",
              "      <td>...</td>\n",
              "      <td>...</td>\n",
              "      <td>...</td>\n",
              "    </tr>\n",
              "    <tr>\n",
              "      <th>59790</th>\n",
              "      <td>01 January 2022 - 02:39 AM</td>\n",
              "      <td>14.01</td>\n",
              "      <td>120.44</td>\n",
              "      <td>121</td>\n",
              "      <td>2.6</td>\n",
              "      <td>021 km S 72° W of Nasugbu (Batangas)</td>\n",
              "    </tr>\n",
              "    <tr>\n",
              "      <th>59791</th>\n",
              "      <td>01 January 2022 - 02:27 AM</td>\n",
              "      <td>10.6</td>\n",
              "      <td>125.81</td>\n",
              "      <td>12</td>\n",
              "      <td>2.3</td>\n",
              "      <td>019 km S 32° E of Homonhon Island (Guiuan) (Ea...</td>\n",
              "    </tr>\n",
              "    <tr>\n",
              "      <th>59792</th>\n",
              "      <td>01 January 2022 - 02:17 AM</td>\n",
              "      <td>7.04</td>\n",
              "      <td>126.66</td>\n",
              "      <td>26</td>\n",
              "      <td>4.2</td>\n",
              "      <td>023 km S 35° E of Manay (Davao Oriental)</td>\n",
              "    </tr>\n",
              "    <tr>\n",
              "      <th>59793</th>\n",
              "      <td>01 January 2022 - 01:24 AM</td>\n",
              "      <td>13.44</td>\n",
              "      <td>120.16</td>\n",
              "      <td>28</td>\n",
              "      <td>2.1</td>\n",
              "      <td>033 km N 85° W of Paluan (Occidental Mindoro)</td>\n",
              "    </tr>\n",
              "    <tr>\n",
              "      <th>59794</th>\n",
              "      <td>01 January 2022 - 12:06 AM</td>\n",
              "      <td>5.76</td>\n",
              "      <td>124.56</td>\n",
              "      <td>3</td>\n",
              "      <td>2.6</td>\n",
              "      <td>026 km S 15° W of Kiamba (Sarangani)</td>\n",
              "    </tr>\n",
              "  </tbody>\n",
              "</table>\n",
              "<p>59795 rows × 6 columns</p>\n",
              "</div>\n",
              "      <button class=\"colab-df-convert\" onclick=\"convertToInteractive('df-fb9eaa52-0c5c-482d-b8d8-515caf46b78f')\"\n",
              "              title=\"Convert this dataframe to an interactive table.\"\n",
              "              style=\"display:none;\">\n",
              "        \n",
              "  <svg xmlns=\"http://www.w3.org/2000/svg\" height=\"24px\"viewBox=\"0 0 24 24\"\n",
              "       width=\"24px\">\n",
              "    <path d=\"M0 0h24v24H0V0z\" fill=\"none\"/>\n",
              "    <path d=\"M18.56 5.44l.94 2.06.94-2.06 2.06-.94-2.06-.94-.94-2.06-.94 2.06-2.06.94zm-11 1L8.5 8.5l.94-2.06 2.06-.94-2.06-.94L8.5 2.5l-.94 2.06-2.06.94zm10 10l.94 2.06.94-2.06 2.06-.94-2.06-.94-.94-2.06-.94 2.06-2.06.94z\"/><path d=\"M17.41 7.96l-1.37-1.37c-.4-.4-.92-.59-1.43-.59-.52 0-1.04.2-1.43.59L10.3 9.45l-7.72 7.72c-.78.78-.78 2.05 0 2.83L4 21.41c.39.39.9.59 1.41.59.51 0 1.02-.2 1.41-.59l7.78-7.78 2.81-2.81c.8-.78.8-2.07 0-2.86zM5.41 20L4 18.59l7.72-7.72 1.47 1.35L5.41 20z\"/>\n",
              "  </svg>\n",
              "      </button>\n",
              "      \n",
              "  <style>\n",
              "    .colab-df-container {\n",
              "      display:flex;\n",
              "      flex-wrap:wrap;\n",
              "      gap: 12px;\n",
              "    }\n",
              "\n",
              "    .colab-df-convert {\n",
              "      background-color: #E8F0FE;\n",
              "      border: none;\n",
              "      border-radius: 50%;\n",
              "      cursor: pointer;\n",
              "      display: none;\n",
              "      fill: #1967D2;\n",
              "      height: 32px;\n",
              "      padding: 0 0 0 0;\n",
              "      width: 32px;\n",
              "    }\n",
              "\n",
              "    .colab-df-convert:hover {\n",
              "      background-color: #E2EBFA;\n",
              "      box-shadow: 0px 1px 2px rgba(60, 64, 67, 0.3), 0px 1px 3px 1px rgba(60, 64, 67, 0.15);\n",
              "      fill: #174EA6;\n",
              "    }\n",
              "\n",
              "    [theme=dark] .colab-df-convert {\n",
              "      background-color: #3B4455;\n",
              "      fill: #D2E3FC;\n",
              "    }\n",
              "\n",
              "    [theme=dark] .colab-df-convert:hover {\n",
              "      background-color: #434B5C;\n",
              "      box-shadow: 0px 1px 3px 1px rgba(0, 0, 0, 0.15);\n",
              "      filter: drop-shadow(0px 1px 2px rgba(0, 0, 0, 0.3));\n",
              "      fill: #FFFFFF;\n",
              "    }\n",
              "  </style>\n",
              "\n",
              "      <script>\n",
              "        const buttonEl =\n",
              "          document.querySelector('#df-fb9eaa52-0c5c-482d-b8d8-515caf46b78f button.colab-df-convert');\n",
              "        buttonEl.style.display =\n",
              "          google.colab.kernel.accessAllowed ? 'block' : 'none';\n",
              "\n",
              "        async function convertToInteractive(key) {\n",
              "          const element = document.querySelector('#df-fb9eaa52-0c5c-482d-b8d8-515caf46b78f');\n",
              "          const dataTable =\n",
              "            await google.colab.kernel.invokeFunction('convertToInteractive',\n",
              "                                                     [key], {});\n",
              "          if (!dataTable) return;\n",
              "\n",
              "          const docLinkHtml = 'Like what you see? Visit the ' +\n",
              "            '<a target=\"_blank\" href=https://colab.research.google.com/notebooks/data_table.ipynb>data table notebook</a>'\n",
              "            + ' to learn more about interactive tables.';\n",
              "          element.innerHTML = '';\n",
              "          dataTable['output_type'] = 'display_data';\n",
              "          await google.colab.output.renderOutput(dataTable, element);\n",
              "          const docLink = document.createElement('div');\n",
              "          docLink.innerHTML = docLinkHtml;\n",
              "          element.appendChild(docLink);\n",
              "        }\n",
              "      </script>\n",
              "    </div>\n",
              "  </div>\n",
              "  "
            ]
          },
          "metadata": {},
          "execution_count": 49
        }
      ]
    },
    {
      "cell_type": "code",
      "source": [
        "#Removing duplicates and null\n",
        "df_new1 = df_new.drop_duplicates()\n",
        "df_new2 = df_new1.dropna()\n",
        "df_new2.shape"
      ],
      "metadata": {
        "id": "U8zJswbTFERs",
        "colab": {
          "base_uri": "https://localhost:8080/"
        },
        "outputId": "5a8a6032-55c6-4d3f-adb0-e80131de0ace"
      },
      "execution_count": null,
      "outputs": [
        {
          "output_type": "execute_result",
          "data": {
            "text/plain": [
              "(59759, 6)"
            ]
          },
          "metadata": {},
          "execution_count": 50
        }
      ]
    },
    {
      "cell_type": "code",
      "source": [
        "#Checking type of data\n",
        "df_new2.dtypes"
      ],
      "metadata": {
        "id": "hyrUnqH5Ee4z",
        "colab": {
          "base_uri": "https://localhost:8080/"
        },
        "outputId": "f6520926-074c-4f14-8a61-b1ebb4bd2fc8"
      },
      "execution_count": null,
      "outputs": [
        {
          "output_type": "execute_result",
          "data": {
            "text/plain": [
              "Date - Time (Philippine Time)     object\n",
              "Latitude                          object\n",
              "Longitude                         object\n",
              "Depth_km                          object\n",
              "Mag                              float64\n",
              "Location                          object\n",
              "dtype: object"
            ]
          },
          "metadata": {},
          "execution_count": 51
        }
      ]
    },
    {
      "cell_type": "markdown",
      "source": [
        "*There are possible special characters (like \"-\") that makes the Latitude, Longitude and Depth into objects instead of float or integers.*"
      ],
      "metadata": {
        "id": "ogkZDOibQDn1"
      }
    },
    {
      "cell_type": "code",
      "source": [
        "#Checking of characters in Latitude, Longitude and Depth columns\n",
        "df_new2['Latitude'].str.contains('-').any()"
      ],
      "metadata": {
        "id": "gZLCAX3-mQyN",
        "colab": {
          "base_uri": "https://localhost:8080/"
        },
        "outputId": "8bdc2b0e-df3f-4ef2-a75b-02569bf76537"
      },
      "execution_count": null,
      "outputs": [
        {
          "output_type": "execute_result",
          "data": {
            "text/plain": [
              "True"
            ]
          },
          "metadata": {},
          "execution_count": 52
        }
      ]
    },
    {
      "cell_type": "code",
      "source": [
        "df_new2['Longitude'].str.contains('-').any()"
      ],
      "metadata": {
        "id": "v1zg0n41mgPs",
        "colab": {
          "base_uri": "https://localhost:8080/"
        },
        "outputId": "27accb49-bff8-4c9f-c9f4-a4b5eba78369"
      },
      "execution_count": null,
      "outputs": [
        {
          "output_type": "execute_result",
          "data": {
            "text/plain": [
              "True"
            ]
          },
          "metadata": {},
          "execution_count": 53
        }
      ]
    },
    {
      "cell_type": "code",
      "source": [
        "df_new2['Depth_km'].str.contains('-').any()"
      ],
      "metadata": {
        "id": "nM3xlBmTmjwZ",
        "colab": {
          "base_uri": "https://localhost:8080/"
        },
        "outputId": "94bc3460-005e-4065-e979-1a8efe0e315b"
      },
      "execution_count": null,
      "outputs": [
        {
          "output_type": "execute_result",
          "data": {
            "text/plain": [
              "True"
            ]
          },
          "metadata": {},
          "execution_count": 54
        }
      ]
    },
    {
      "cell_type": "code",
      "source": [
        "#Removing rows containing \"-\" in Latitude, Longitude and Depth\n",
        "df_new01 = df_new2.loc[df_new[\"Latitude\"] != \"-\"]\n",
        "df_new01.shape"
      ],
      "metadata": {
        "id": "Y1KB3OV0nXnj",
        "colab": {
          "base_uri": "https://localhost:8080/"
        },
        "outputId": "3c680d26-d0d9-4708-c4fa-68c0c21f8c0f"
      },
      "execution_count": null,
      "outputs": [
        {
          "output_type": "execute_result",
          "data": {
            "text/plain": [
              "(59737, 6)"
            ]
          },
          "metadata": {},
          "execution_count": 55
        }
      ]
    },
    {
      "cell_type": "code",
      "source": [
        "df_new02 = df_new01.loc[df_new01[\"Longitude\"] != \"-\"]\n",
        "df_new02.shape"
      ],
      "metadata": {
        "id": "qEG2ZIHNoHXS",
        "colab": {
          "base_uri": "https://localhost:8080/"
        },
        "outputId": "08d54548-30b2-4550-94b6-b99c3b441d86"
      },
      "execution_count": null,
      "outputs": [
        {
          "output_type": "execute_result",
          "data": {
            "text/plain": [
              "(59737, 6)"
            ]
          },
          "metadata": {},
          "execution_count": 56
        }
      ]
    },
    {
      "cell_type": "code",
      "source": [
        "df_new03 = df_new01.loc[df_new01[\"Depth_km\"] != \"-\"]\n",
        "df_new03.shape"
      ],
      "metadata": {
        "id": "pldyGsgmoUeS",
        "colab": {
          "base_uri": "https://localhost:8080/"
        },
        "outputId": "0f57ea70-fdb0-4351-f24e-3d622189d28b"
      },
      "execution_count": null,
      "outputs": [
        {
          "output_type": "execute_result",
          "data": {
            "text/plain": [
              "(59736, 6)"
            ]
          },
          "metadata": {},
          "execution_count": 57
        }
      ]
    },
    {
      "cell_type": "code",
      "source": [
        "#Checking data types after removing rows containing \"-\"\n",
        "df_new03.dtypes"
      ],
      "metadata": {
        "id": "CLDWAVWhofT8",
        "colab": {
          "base_uri": "https://localhost:8080/"
        },
        "outputId": "fe1a6533-30a7-439c-93f8-fb9443e40b82"
      },
      "execution_count": null,
      "outputs": [
        {
          "output_type": "execute_result",
          "data": {
            "text/plain": [
              "Date - Time (Philippine Time)     object\n",
              "Latitude                          object\n",
              "Longitude                         object\n",
              "Depth_km                          object\n",
              "Mag                              float64\n",
              "Location                          object\n",
              "dtype: object"
            ]
          },
          "metadata": {},
          "execution_count": 58
        }
      ]
    },
    {
      "cell_type": "code",
      "source": [
        "#Changing data type\n",
        "df_new04 = df_new03.astype({\"Latitude\": 'float64', \"Longitude\": 'float64', \"Depth_km\": 'int'})\n",
        "df_new04.dtypes"
      ],
      "metadata": {
        "id": "jk454y1QqjFd",
        "colab": {
          "base_uri": "https://localhost:8080/"
        },
        "outputId": "6faeab4c-5532-4377-87c1-8919d06f21ca"
      },
      "execution_count": null,
      "outputs": [
        {
          "output_type": "execute_result",
          "data": {
            "text/plain": [
              "Date - Time (Philippine Time)     object\n",
              "Latitude                         float64\n",
              "Longitude                        float64\n",
              "Depth_km                           int64\n",
              "Mag                              float64\n",
              "Location                          object\n",
              "dtype: object"
            ]
          },
          "metadata": {},
          "execution_count": 59
        }
      ]
    },
    {
      "cell_type": "markdown",
      "source": [
        "*I based the latitude and longitude limit on the latest Philippine Seismic Network map (link: https://drive.google.com/file/d/1UCD4TAGHV_Nby9SBqCRQBSE4J_SHFjl4/view?ts=624eb0fc).*"
      ],
      "metadata": {
        "id": "44w0-Zxd2hWM"
      }
    },
    {
      "cell_type": "code",
      "source": [
        "df_new05 = df_new04.loc[(df_new04[\"Longitude\"] > 116) & (df_new04[\"Longitude\"] < 130)]\n",
        "df_new05.shape"
      ],
      "metadata": {
        "id": "NaVFSlcU1URX",
        "colab": {
          "base_uri": "https://localhost:8080/"
        },
        "outputId": "d3afce3a-af6c-4d59-8ccf-3c9e0eb9bacb"
      },
      "execution_count": null,
      "outputs": [
        {
          "output_type": "execute_result",
          "data": {
            "text/plain": [
              "(59730, 6)"
            ]
          },
          "metadata": {},
          "execution_count": 60
        }
      ]
    },
    {
      "cell_type": "code",
      "source": [
        "df_new06 = df_new05.loc[(df_new05[\"Latitude\"] < 22) & (df_new05[\"Latitude\"] > 2)]\n",
        "df_new06.shape"
      ],
      "metadata": {
        "id": "G63U9yTD2R4d",
        "colab": {
          "base_uri": "https://localhost:8080/"
        },
        "outputId": "0155aa95-326d-4ca9-bc03-de7cd370d3bf"
      },
      "execution_count": null,
      "outputs": [
        {
          "output_type": "execute_result",
          "data": {
            "text/plain": [
              "(59722, 6)"
            ]
          },
          "metadata": {},
          "execution_count": 61
        }
      ]
    },
    {
      "cell_type": "code",
      "source": [
        "#Extract date and time\n",
        "df_format = df_new06.copy(deep=True)\n",
        "df_format.rename(columns = {'Date - Time (Philippine Time)':'Date_time'}, inplace = True)\n",
        "df_format['Date_time']=pd.to_datetime(df_format['Date_time'],errors='coerce')\n",
        "df_format['Time']=df_format['Date_time'].dt.time\n",
        "df_format['Date']= df_format['Date_time'].dt.date\n",
        "df_format['Year']= df_format['Date_time'].dt.strftime('%Y')\n",
        "df_format['Month']= df_format['Date_time'].dt.strftime('%m')\n",
        "df_format['Year_month'] = df_format['Date_time'].dt.strftime('%Y-%m')\n",
        "new_cols = [\"Date_time\",\"Year\",\"Year_month\",\"Month\",\"Date\",\"Time\",\"Latitude\",\"Longitude\",\"Depth_km\",\"Mag\",\"Location\"]\n",
        "df_formatnew=df_format[new_cols]\n",
        "df_formatnew.sort_values(by=['Date_time'])\n",
        "df_formatnew.head()"
      ],
      "metadata": {
        "id": "VoToBIF_K8TO",
        "colab": {
          "base_uri": "https://localhost:8080/",
          "height": 337
        },
        "outputId": "ba281ff8-f16d-4e3d-e584-cc4f888c551d"
      },
      "execution_count": null,
      "outputs": [
        {
          "output_type": "execute_result",
          "data": {
            "text/plain": [
              "            Date_time  Year Year_month Month        Date      Time  Latitude  \\\n",
              "0 2018-12-31 22:47:00  2018    2018-12    12  2018-12-31  22:47:00      8.62   \n",
              "1 2018-12-31 22:16:00  2018    2018-12    12  2018-12-31  22:16:00     12.92   \n",
              "2 2018-12-31 22:14:00  2018    2018-12    12  2018-12-31  22:14:00      5.61   \n",
              "3 2018-12-31 19:43:00  2018    2018-12    12  2018-12-31  19:43:00      5.52   \n",
              "4 2018-12-31 18:46:00  2018    2018-12    12  2018-12-31  18:46:00      5.48   \n",
              "\n",
              "   Longitude  Depth_km  Mag                                           Location  \n",
              "0     126.01        10  2.0     011 km N 61° E of Prosperidad (Agusan Del Sur)  \n",
              "1     122.80        14  2.5               040 km N 80° W of Claveria (Masbate)  \n",
              "2     126.92        32  3.7  148 km S 39° E of Governor Generoso (Davao Ori...  \n",
              "3     126.96        31  2.7  159 km S 38° E of Governor Generoso (Davao Ori...  \n",
              "4     126.35         1  3.2  093 km S 61° E of Jose Abad Santos (Davao Occi...  "
            ],
            "text/html": [
              "\n",
              "  <div id=\"df-5cf40274-dfb2-4155-801c-9e3226dab48a\">\n",
              "    <div class=\"colab-df-container\">\n",
              "      <div>\n",
              "<style scoped>\n",
              "    .dataframe tbody tr th:only-of-type {\n",
              "        vertical-align: middle;\n",
              "    }\n",
              "\n",
              "    .dataframe tbody tr th {\n",
              "        vertical-align: top;\n",
              "    }\n",
              "\n",
              "    .dataframe thead th {\n",
              "        text-align: right;\n",
              "    }\n",
              "</style>\n",
              "<table border=\"1\" class=\"dataframe\">\n",
              "  <thead>\n",
              "    <tr style=\"text-align: right;\">\n",
              "      <th></th>\n",
              "      <th>Date_time</th>\n",
              "      <th>Year</th>\n",
              "      <th>Year_month</th>\n",
              "      <th>Month</th>\n",
              "      <th>Date</th>\n",
              "      <th>Time</th>\n",
              "      <th>Latitude</th>\n",
              "      <th>Longitude</th>\n",
              "      <th>Depth_km</th>\n",
              "      <th>Mag</th>\n",
              "      <th>Location</th>\n",
              "    </tr>\n",
              "  </thead>\n",
              "  <tbody>\n",
              "    <tr>\n",
              "      <th>0</th>\n",
              "      <td>2018-12-31 22:47:00</td>\n",
              "      <td>2018</td>\n",
              "      <td>2018-12</td>\n",
              "      <td>12</td>\n",
              "      <td>2018-12-31</td>\n",
              "      <td>22:47:00</td>\n",
              "      <td>8.62</td>\n",
              "      <td>126.01</td>\n",
              "      <td>10</td>\n",
              "      <td>2.0</td>\n",
              "      <td>011 km N 61° E of Prosperidad (Agusan Del Sur)</td>\n",
              "    </tr>\n",
              "    <tr>\n",
              "      <th>1</th>\n",
              "      <td>2018-12-31 22:16:00</td>\n",
              "      <td>2018</td>\n",
              "      <td>2018-12</td>\n",
              "      <td>12</td>\n",
              "      <td>2018-12-31</td>\n",
              "      <td>22:16:00</td>\n",
              "      <td>12.92</td>\n",
              "      <td>122.80</td>\n",
              "      <td>14</td>\n",
              "      <td>2.5</td>\n",
              "      <td>040 km N 80° W of Claveria (Masbate)</td>\n",
              "    </tr>\n",
              "    <tr>\n",
              "      <th>2</th>\n",
              "      <td>2018-12-31 22:14:00</td>\n",
              "      <td>2018</td>\n",
              "      <td>2018-12</td>\n",
              "      <td>12</td>\n",
              "      <td>2018-12-31</td>\n",
              "      <td>22:14:00</td>\n",
              "      <td>5.61</td>\n",
              "      <td>126.92</td>\n",
              "      <td>32</td>\n",
              "      <td>3.7</td>\n",
              "      <td>148 km S 39° E of Governor Generoso (Davao Ori...</td>\n",
              "    </tr>\n",
              "    <tr>\n",
              "      <th>3</th>\n",
              "      <td>2018-12-31 19:43:00</td>\n",
              "      <td>2018</td>\n",
              "      <td>2018-12</td>\n",
              "      <td>12</td>\n",
              "      <td>2018-12-31</td>\n",
              "      <td>19:43:00</td>\n",
              "      <td>5.52</td>\n",
              "      <td>126.96</td>\n",
              "      <td>31</td>\n",
              "      <td>2.7</td>\n",
              "      <td>159 km S 38° E of Governor Generoso (Davao Ori...</td>\n",
              "    </tr>\n",
              "    <tr>\n",
              "      <th>4</th>\n",
              "      <td>2018-12-31 18:46:00</td>\n",
              "      <td>2018</td>\n",
              "      <td>2018-12</td>\n",
              "      <td>12</td>\n",
              "      <td>2018-12-31</td>\n",
              "      <td>18:46:00</td>\n",
              "      <td>5.48</td>\n",
              "      <td>126.35</td>\n",
              "      <td>1</td>\n",
              "      <td>3.2</td>\n",
              "      <td>093 km S 61° E of Jose Abad Santos (Davao Occi...</td>\n",
              "    </tr>\n",
              "  </tbody>\n",
              "</table>\n",
              "</div>\n",
              "      <button class=\"colab-df-convert\" onclick=\"convertToInteractive('df-5cf40274-dfb2-4155-801c-9e3226dab48a')\"\n",
              "              title=\"Convert this dataframe to an interactive table.\"\n",
              "              style=\"display:none;\">\n",
              "        \n",
              "  <svg xmlns=\"http://www.w3.org/2000/svg\" height=\"24px\"viewBox=\"0 0 24 24\"\n",
              "       width=\"24px\">\n",
              "    <path d=\"M0 0h24v24H0V0z\" fill=\"none\"/>\n",
              "    <path d=\"M18.56 5.44l.94 2.06.94-2.06 2.06-.94-2.06-.94-.94-2.06-.94 2.06-2.06.94zm-11 1L8.5 8.5l.94-2.06 2.06-.94-2.06-.94L8.5 2.5l-.94 2.06-2.06.94zm10 10l.94 2.06.94-2.06 2.06-.94-2.06-.94-.94-2.06-.94 2.06-2.06.94z\"/><path d=\"M17.41 7.96l-1.37-1.37c-.4-.4-.92-.59-1.43-.59-.52 0-1.04.2-1.43.59L10.3 9.45l-7.72 7.72c-.78.78-.78 2.05 0 2.83L4 21.41c.39.39.9.59 1.41.59.51 0 1.02-.2 1.41-.59l7.78-7.78 2.81-2.81c.8-.78.8-2.07 0-2.86zM5.41 20L4 18.59l7.72-7.72 1.47 1.35L5.41 20z\"/>\n",
              "  </svg>\n",
              "      </button>\n",
              "      \n",
              "  <style>\n",
              "    .colab-df-container {\n",
              "      display:flex;\n",
              "      flex-wrap:wrap;\n",
              "      gap: 12px;\n",
              "    }\n",
              "\n",
              "    .colab-df-convert {\n",
              "      background-color: #E8F0FE;\n",
              "      border: none;\n",
              "      border-radius: 50%;\n",
              "      cursor: pointer;\n",
              "      display: none;\n",
              "      fill: #1967D2;\n",
              "      height: 32px;\n",
              "      padding: 0 0 0 0;\n",
              "      width: 32px;\n",
              "    }\n",
              "\n",
              "    .colab-df-convert:hover {\n",
              "      background-color: #E2EBFA;\n",
              "      box-shadow: 0px 1px 2px rgba(60, 64, 67, 0.3), 0px 1px 3px 1px rgba(60, 64, 67, 0.15);\n",
              "      fill: #174EA6;\n",
              "    }\n",
              "\n",
              "    [theme=dark] .colab-df-convert {\n",
              "      background-color: #3B4455;\n",
              "      fill: #D2E3FC;\n",
              "    }\n",
              "\n",
              "    [theme=dark] .colab-df-convert:hover {\n",
              "      background-color: #434B5C;\n",
              "      box-shadow: 0px 1px 3px 1px rgba(0, 0, 0, 0.15);\n",
              "      filter: drop-shadow(0px 1px 2px rgba(0, 0, 0, 0.3));\n",
              "      fill: #FFFFFF;\n",
              "    }\n",
              "  </style>\n",
              "\n",
              "      <script>\n",
              "        const buttonEl =\n",
              "          document.querySelector('#df-5cf40274-dfb2-4155-801c-9e3226dab48a button.colab-df-convert');\n",
              "        buttonEl.style.display =\n",
              "          google.colab.kernel.accessAllowed ? 'block' : 'none';\n",
              "\n",
              "        async function convertToInteractive(key) {\n",
              "          const element = document.querySelector('#df-5cf40274-dfb2-4155-801c-9e3226dab48a');\n",
              "          const dataTable =\n",
              "            await google.colab.kernel.invokeFunction('convertToInteractive',\n",
              "                                                     [key], {});\n",
              "          if (!dataTable) return;\n",
              "\n",
              "          const docLinkHtml = 'Like what you see? Visit the ' +\n",
              "            '<a target=\"_blank\" href=https://colab.research.google.com/notebooks/data_table.ipynb>data table notebook</a>'\n",
              "            + ' to learn more about interactive tables.';\n",
              "          element.innerHTML = '';\n",
              "          dataTable['output_type'] = 'display_data';\n",
              "          await google.colab.output.renderOutput(dataTable, element);\n",
              "          const docLink = document.createElement('div');\n",
              "          docLink.innerHTML = docLinkHtml;\n",
              "          element.appendChild(docLink);\n",
              "        }\n",
              "      </script>\n",
              "    </div>\n",
              "  </div>\n",
              "  "
            ]
          },
          "metadata": {},
          "execution_count": 62
        }
      ]
    },
    {
      "cell_type": "code",
      "source": [
        "df_formatnew.tail()"
      ],
      "metadata": {
        "id": "nfc3p3NHtdvp",
        "colab": {
          "base_uri": "https://localhost:8080/",
          "height": 337
        },
        "outputId": "1ecc2496-81fc-4ce1-cff6-9aea5ffa9ac1"
      },
      "execution_count": null,
      "outputs": [
        {
          "output_type": "execute_result",
          "data": {
            "text/plain": [
              "                Date_time  Year Year_month Month        Date      Time  \\\n",
              "59790 2022-01-01 02:39:00  2022    2022-01    01  2022-01-01  02:39:00   \n",
              "59791 2022-01-01 02:27:00  2022    2022-01    01  2022-01-01  02:27:00   \n",
              "59792 2022-01-01 02:17:00  2022    2022-01    01  2022-01-01  02:17:00   \n",
              "59793 2022-01-01 01:24:00  2022    2022-01    01  2022-01-01  01:24:00   \n",
              "59794 2022-01-01 00:06:00  2022    2022-01    01  2022-01-01  00:06:00   \n",
              "\n",
              "       Latitude  Longitude  Depth_km  Mag  \\\n",
              "59790     14.01     120.44       121  2.6   \n",
              "59791     10.60     125.81        12  2.3   \n",
              "59792      7.04     126.66        26  4.2   \n",
              "59793     13.44     120.16        28  2.1   \n",
              "59794      5.76     124.56         3  2.6   \n",
              "\n",
              "                                                Location  \n",
              "59790               021 km S 72° W of Nasugbu (Batangas)  \n",
              "59791  019 km S 32° E of Homonhon Island (Guiuan) (Ea...  \n",
              "59792           023 km S 35° E of Manay (Davao Oriental)  \n",
              "59793      033 km N 85° W of Paluan (Occidental Mindoro)  \n",
              "59794               026 km S 15° W of Kiamba (Sarangani)  "
            ],
            "text/html": [
              "\n",
              "  <div id=\"df-78779fc7-3501-4a6b-8105-e9a5fe66f2d5\">\n",
              "    <div class=\"colab-df-container\">\n",
              "      <div>\n",
              "<style scoped>\n",
              "    .dataframe tbody tr th:only-of-type {\n",
              "        vertical-align: middle;\n",
              "    }\n",
              "\n",
              "    .dataframe tbody tr th {\n",
              "        vertical-align: top;\n",
              "    }\n",
              "\n",
              "    .dataframe thead th {\n",
              "        text-align: right;\n",
              "    }\n",
              "</style>\n",
              "<table border=\"1\" class=\"dataframe\">\n",
              "  <thead>\n",
              "    <tr style=\"text-align: right;\">\n",
              "      <th></th>\n",
              "      <th>Date_time</th>\n",
              "      <th>Year</th>\n",
              "      <th>Year_month</th>\n",
              "      <th>Month</th>\n",
              "      <th>Date</th>\n",
              "      <th>Time</th>\n",
              "      <th>Latitude</th>\n",
              "      <th>Longitude</th>\n",
              "      <th>Depth_km</th>\n",
              "      <th>Mag</th>\n",
              "      <th>Location</th>\n",
              "    </tr>\n",
              "  </thead>\n",
              "  <tbody>\n",
              "    <tr>\n",
              "      <th>59790</th>\n",
              "      <td>2022-01-01 02:39:00</td>\n",
              "      <td>2022</td>\n",
              "      <td>2022-01</td>\n",
              "      <td>01</td>\n",
              "      <td>2022-01-01</td>\n",
              "      <td>02:39:00</td>\n",
              "      <td>14.01</td>\n",
              "      <td>120.44</td>\n",
              "      <td>121</td>\n",
              "      <td>2.6</td>\n",
              "      <td>021 km S 72° W of Nasugbu (Batangas)</td>\n",
              "    </tr>\n",
              "    <tr>\n",
              "      <th>59791</th>\n",
              "      <td>2022-01-01 02:27:00</td>\n",
              "      <td>2022</td>\n",
              "      <td>2022-01</td>\n",
              "      <td>01</td>\n",
              "      <td>2022-01-01</td>\n",
              "      <td>02:27:00</td>\n",
              "      <td>10.60</td>\n",
              "      <td>125.81</td>\n",
              "      <td>12</td>\n",
              "      <td>2.3</td>\n",
              "      <td>019 km S 32° E of Homonhon Island (Guiuan) (Ea...</td>\n",
              "    </tr>\n",
              "    <tr>\n",
              "      <th>59792</th>\n",
              "      <td>2022-01-01 02:17:00</td>\n",
              "      <td>2022</td>\n",
              "      <td>2022-01</td>\n",
              "      <td>01</td>\n",
              "      <td>2022-01-01</td>\n",
              "      <td>02:17:00</td>\n",
              "      <td>7.04</td>\n",
              "      <td>126.66</td>\n",
              "      <td>26</td>\n",
              "      <td>4.2</td>\n",
              "      <td>023 km S 35° E of Manay (Davao Oriental)</td>\n",
              "    </tr>\n",
              "    <tr>\n",
              "      <th>59793</th>\n",
              "      <td>2022-01-01 01:24:00</td>\n",
              "      <td>2022</td>\n",
              "      <td>2022-01</td>\n",
              "      <td>01</td>\n",
              "      <td>2022-01-01</td>\n",
              "      <td>01:24:00</td>\n",
              "      <td>13.44</td>\n",
              "      <td>120.16</td>\n",
              "      <td>28</td>\n",
              "      <td>2.1</td>\n",
              "      <td>033 km N 85° W of Paluan (Occidental Mindoro)</td>\n",
              "    </tr>\n",
              "    <tr>\n",
              "      <th>59794</th>\n",
              "      <td>2022-01-01 00:06:00</td>\n",
              "      <td>2022</td>\n",
              "      <td>2022-01</td>\n",
              "      <td>01</td>\n",
              "      <td>2022-01-01</td>\n",
              "      <td>00:06:00</td>\n",
              "      <td>5.76</td>\n",
              "      <td>124.56</td>\n",
              "      <td>3</td>\n",
              "      <td>2.6</td>\n",
              "      <td>026 km S 15° W of Kiamba (Sarangani)</td>\n",
              "    </tr>\n",
              "  </tbody>\n",
              "</table>\n",
              "</div>\n",
              "      <button class=\"colab-df-convert\" onclick=\"convertToInteractive('df-78779fc7-3501-4a6b-8105-e9a5fe66f2d5')\"\n",
              "              title=\"Convert this dataframe to an interactive table.\"\n",
              "              style=\"display:none;\">\n",
              "        \n",
              "  <svg xmlns=\"http://www.w3.org/2000/svg\" height=\"24px\"viewBox=\"0 0 24 24\"\n",
              "       width=\"24px\">\n",
              "    <path d=\"M0 0h24v24H0V0z\" fill=\"none\"/>\n",
              "    <path d=\"M18.56 5.44l.94 2.06.94-2.06 2.06-.94-2.06-.94-.94-2.06-.94 2.06-2.06.94zm-11 1L8.5 8.5l.94-2.06 2.06-.94-2.06-.94L8.5 2.5l-.94 2.06-2.06.94zm10 10l.94 2.06.94-2.06 2.06-.94-2.06-.94-.94-2.06-.94 2.06-2.06.94z\"/><path d=\"M17.41 7.96l-1.37-1.37c-.4-.4-.92-.59-1.43-.59-.52 0-1.04.2-1.43.59L10.3 9.45l-7.72 7.72c-.78.78-.78 2.05 0 2.83L4 21.41c.39.39.9.59 1.41.59.51 0 1.02-.2 1.41-.59l7.78-7.78 2.81-2.81c.8-.78.8-2.07 0-2.86zM5.41 20L4 18.59l7.72-7.72 1.47 1.35L5.41 20z\"/>\n",
              "  </svg>\n",
              "      </button>\n",
              "      \n",
              "  <style>\n",
              "    .colab-df-container {\n",
              "      display:flex;\n",
              "      flex-wrap:wrap;\n",
              "      gap: 12px;\n",
              "    }\n",
              "\n",
              "    .colab-df-convert {\n",
              "      background-color: #E8F0FE;\n",
              "      border: none;\n",
              "      border-radius: 50%;\n",
              "      cursor: pointer;\n",
              "      display: none;\n",
              "      fill: #1967D2;\n",
              "      height: 32px;\n",
              "      padding: 0 0 0 0;\n",
              "      width: 32px;\n",
              "    }\n",
              "\n",
              "    .colab-df-convert:hover {\n",
              "      background-color: #E2EBFA;\n",
              "      box-shadow: 0px 1px 2px rgba(60, 64, 67, 0.3), 0px 1px 3px 1px rgba(60, 64, 67, 0.15);\n",
              "      fill: #174EA6;\n",
              "    }\n",
              "\n",
              "    [theme=dark] .colab-df-convert {\n",
              "      background-color: #3B4455;\n",
              "      fill: #D2E3FC;\n",
              "    }\n",
              "\n",
              "    [theme=dark] .colab-df-convert:hover {\n",
              "      background-color: #434B5C;\n",
              "      box-shadow: 0px 1px 3px 1px rgba(0, 0, 0, 0.15);\n",
              "      filter: drop-shadow(0px 1px 2px rgba(0, 0, 0, 0.3));\n",
              "      fill: #FFFFFF;\n",
              "    }\n",
              "  </style>\n",
              "\n",
              "      <script>\n",
              "        const buttonEl =\n",
              "          document.querySelector('#df-78779fc7-3501-4a6b-8105-e9a5fe66f2d5 button.colab-df-convert');\n",
              "        buttonEl.style.display =\n",
              "          google.colab.kernel.accessAllowed ? 'block' : 'none';\n",
              "\n",
              "        async function convertToInteractive(key) {\n",
              "          const element = document.querySelector('#df-78779fc7-3501-4a6b-8105-e9a5fe66f2d5');\n",
              "          const dataTable =\n",
              "            await google.colab.kernel.invokeFunction('convertToInteractive',\n",
              "                                                     [key], {});\n",
              "          if (!dataTable) return;\n",
              "\n",
              "          const docLinkHtml = 'Like what you see? Visit the ' +\n",
              "            '<a target=\"_blank\" href=https://colab.research.google.com/notebooks/data_table.ipynb>data table notebook</a>'\n",
              "            + ' to learn more about interactive tables.';\n",
              "          element.innerHTML = '';\n",
              "          dataTable['output_type'] = 'display_data';\n",
              "          await google.colab.output.renderOutput(dataTable, element);\n",
              "          const docLink = document.createElement('div');\n",
              "          docLink.innerHTML = docLinkHtml;\n",
              "          element.appendChild(docLink);\n",
              "        }\n",
              "      </script>\n",
              "    </div>\n",
              "  </div>\n",
              "  "
            ]
          },
          "metadata": {},
          "execution_count": 63
        }
      ]
    },
    {
      "cell_type": "markdown",
      "source": [
        "# Descriptive Analytics"
      ],
      "metadata": {
        "id": "nSlI8R2oRdIq"
      }
    },
    {
      "cell_type": "code",
      "source": [
        "df_formatnew.describe()"
      ],
      "metadata": {
        "id": "BKBaY_A6Rhvk",
        "colab": {
          "base_uri": "https://localhost:8080/",
          "height": 300
        },
        "outputId": "2463d552-e32c-4dff-dcce-061c2a7876b1"
      },
      "execution_count": null,
      "outputs": [
        {
          "output_type": "execute_result",
          "data": {
            "text/plain": [
              "           Latitude     Longitude      Depth_km           Mag\n",
              "count  59722.000000  59722.000000  59722.000000  59722.000000\n",
              "mean      11.003224    123.797796     31.312197      2.579179\n",
              "std        4.172947      2.523625     39.717583      0.672690\n",
              "min        2.020000    116.300000      0.000000      1.000000\n",
              "25%        7.170000    120.960000      9.000000      2.100000\n",
              "50%       10.070000    124.750000     21.000000      2.500000\n",
              "75%       14.000000    126.120000     33.000000      2.900000\n",
              "max       21.980000    129.120000   1068.000000      7.200000"
            ],
            "text/html": [
              "\n",
              "  <div id=\"df-df0f3cfc-43f3-4dfd-87ee-141d33fc9dc8\">\n",
              "    <div class=\"colab-df-container\">\n",
              "      <div>\n",
              "<style scoped>\n",
              "    .dataframe tbody tr th:only-of-type {\n",
              "        vertical-align: middle;\n",
              "    }\n",
              "\n",
              "    .dataframe tbody tr th {\n",
              "        vertical-align: top;\n",
              "    }\n",
              "\n",
              "    .dataframe thead th {\n",
              "        text-align: right;\n",
              "    }\n",
              "</style>\n",
              "<table border=\"1\" class=\"dataframe\">\n",
              "  <thead>\n",
              "    <tr style=\"text-align: right;\">\n",
              "      <th></th>\n",
              "      <th>Latitude</th>\n",
              "      <th>Longitude</th>\n",
              "      <th>Depth_km</th>\n",
              "      <th>Mag</th>\n",
              "    </tr>\n",
              "  </thead>\n",
              "  <tbody>\n",
              "    <tr>\n",
              "      <th>count</th>\n",
              "      <td>59722.000000</td>\n",
              "      <td>59722.000000</td>\n",
              "      <td>59722.000000</td>\n",
              "      <td>59722.000000</td>\n",
              "    </tr>\n",
              "    <tr>\n",
              "      <th>mean</th>\n",
              "      <td>11.003224</td>\n",
              "      <td>123.797796</td>\n",
              "      <td>31.312197</td>\n",
              "      <td>2.579179</td>\n",
              "    </tr>\n",
              "    <tr>\n",
              "      <th>std</th>\n",
              "      <td>4.172947</td>\n",
              "      <td>2.523625</td>\n",
              "      <td>39.717583</td>\n",
              "      <td>0.672690</td>\n",
              "    </tr>\n",
              "    <tr>\n",
              "      <th>min</th>\n",
              "      <td>2.020000</td>\n",
              "      <td>116.300000</td>\n",
              "      <td>0.000000</td>\n",
              "      <td>1.000000</td>\n",
              "    </tr>\n",
              "    <tr>\n",
              "      <th>25%</th>\n",
              "      <td>7.170000</td>\n",
              "      <td>120.960000</td>\n",
              "      <td>9.000000</td>\n",
              "      <td>2.100000</td>\n",
              "    </tr>\n",
              "    <tr>\n",
              "      <th>50%</th>\n",
              "      <td>10.070000</td>\n",
              "      <td>124.750000</td>\n",
              "      <td>21.000000</td>\n",
              "      <td>2.500000</td>\n",
              "    </tr>\n",
              "    <tr>\n",
              "      <th>75%</th>\n",
              "      <td>14.000000</td>\n",
              "      <td>126.120000</td>\n",
              "      <td>33.000000</td>\n",
              "      <td>2.900000</td>\n",
              "    </tr>\n",
              "    <tr>\n",
              "      <th>max</th>\n",
              "      <td>21.980000</td>\n",
              "      <td>129.120000</td>\n",
              "      <td>1068.000000</td>\n",
              "      <td>7.200000</td>\n",
              "    </tr>\n",
              "  </tbody>\n",
              "</table>\n",
              "</div>\n",
              "      <button class=\"colab-df-convert\" onclick=\"convertToInteractive('df-df0f3cfc-43f3-4dfd-87ee-141d33fc9dc8')\"\n",
              "              title=\"Convert this dataframe to an interactive table.\"\n",
              "              style=\"display:none;\">\n",
              "        \n",
              "  <svg xmlns=\"http://www.w3.org/2000/svg\" height=\"24px\"viewBox=\"0 0 24 24\"\n",
              "       width=\"24px\">\n",
              "    <path d=\"M0 0h24v24H0V0z\" fill=\"none\"/>\n",
              "    <path d=\"M18.56 5.44l.94 2.06.94-2.06 2.06-.94-2.06-.94-.94-2.06-.94 2.06-2.06.94zm-11 1L8.5 8.5l.94-2.06 2.06-.94-2.06-.94L8.5 2.5l-.94 2.06-2.06.94zm10 10l.94 2.06.94-2.06 2.06-.94-2.06-.94-.94-2.06-.94 2.06-2.06.94z\"/><path d=\"M17.41 7.96l-1.37-1.37c-.4-.4-.92-.59-1.43-.59-.52 0-1.04.2-1.43.59L10.3 9.45l-7.72 7.72c-.78.78-.78 2.05 0 2.83L4 21.41c.39.39.9.59 1.41.59.51 0 1.02-.2 1.41-.59l7.78-7.78 2.81-2.81c.8-.78.8-2.07 0-2.86zM5.41 20L4 18.59l7.72-7.72 1.47 1.35L5.41 20z\"/>\n",
              "  </svg>\n",
              "      </button>\n",
              "      \n",
              "  <style>\n",
              "    .colab-df-container {\n",
              "      display:flex;\n",
              "      flex-wrap:wrap;\n",
              "      gap: 12px;\n",
              "    }\n",
              "\n",
              "    .colab-df-convert {\n",
              "      background-color: #E8F0FE;\n",
              "      border: none;\n",
              "      border-radius: 50%;\n",
              "      cursor: pointer;\n",
              "      display: none;\n",
              "      fill: #1967D2;\n",
              "      height: 32px;\n",
              "      padding: 0 0 0 0;\n",
              "      width: 32px;\n",
              "    }\n",
              "\n",
              "    .colab-df-convert:hover {\n",
              "      background-color: #E2EBFA;\n",
              "      box-shadow: 0px 1px 2px rgba(60, 64, 67, 0.3), 0px 1px 3px 1px rgba(60, 64, 67, 0.15);\n",
              "      fill: #174EA6;\n",
              "    }\n",
              "\n",
              "    [theme=dark] .colab-df-convert {\n",
              "      background-color: #3B4455;\n",
              "      fill: #D2E3FC;\n",
              "    }\n",
              "\n",
              "    [theme=dark] .colab-df-convert:hover {\n",
              "      background-color: #434B5C;\n",
              "      box-shadow: 0px 1px 3px 1px rgba(0, 0, 0, 0.15);\n",
              "      filter: drop-shadow(0px 1px 2px rgba(0, 0, 0, 0.3));\n",
              "      fill: #FFFFFF;\n",
              "    }\n",
              "  </style>\n",
              "\n",
              "      <script>\n",
              "        const buttonEl =\n",
              "          document.querySelector('#df-df0f3cfc-43f3-4dfd-87ee-141d33fc9dc8 button.colab-df-convert');\n",
              "        buttonEl.style.display =\n",
              "          google.colab.kernel.accessAllowed ? 'block' : 'none';\n",
              "\n",
              "        async function convertToInteractive(key) {\n",
              "          const element = document.querySelector('#df-df0f3cfc-43f3-4dfd-87ee-141d33fc9dc8');\n",
              "          const dataTable =\n",
              "            await google.colab.kernel.invokeFunction('convertToInteractive',\n",
              "                                                     [key], {});\n",
              "          if (!dataTable) return;\n",
              "\n",
              "          const docLinkHtml = 'Like what you see? Visit the ' +\n",
              "            '<a target=\"_blank\" href=https://colab.research.google.com/notebooks/data_table.ipynb>data table notebook</a>'\n",
              "            + ' to learn more about interactive tables.';\n",
              "          element.innerHTML = '';\n",
              "          dataTable['output_type'] = 'display_data';\n",
              "          await google.colab.output.renderOutput(dataTable, element);\n",
              "          const docLink = document.createElement('div');\n",
              "          docLink.innerHTML = docLinkHtml;\n",
              "          element.appendChild(docLink);\n",
              "        }\n",
              "      </script>\n",
              "    </div>\n",
              "  </div>\n",
              "  "
            ]
          },
          "metadata": {},
          "execution_count": 64
        }
      ]
    },
    {
      "cell_type": "markdown",
      "source": [
        "*Latitude ranges from around 4 up to around 22 and longitude ranges from around 116 up to around 129. The deepest focal depth recorded is 1068km while the shallowest is 0km (surface). The highest magnitude recorded is 7.2 and the lowest is 1.0.*"
      ],
      "metadata": {
        "id": "l52t2m4FlbjN"
      }
    },
    {
      "cell_type": "markdown",
      "source": [
        "# Diagnostic Analytics"
      ],
      "metadata": {
        "id": "uR-Sds7BO-0r"
      }
    },
    {
      "cell_type": "code",
      "source": [
        "#Correlation Heatmap\n",
        "sns.heatmap(df_formatnew.corr(), annot=True)"
      ],
      "metadata": {
        "id": "xVF7OkHMPDYv",
        "colab": {
          "base_uri": "https://localhost:8080/",
          "height": 287
        },
        "outputId": "da9e597b-6e0a-4e3c-c650-1d8dd6b8bd29"
      },
      "execution_count": null,
      "outputs": [
        {
          "output_type": "execute_result",
          "data": {
            "text/plain": [
              "<AxesSubplot:>"
            ]
          },
          "metadata": {},
          "execution_count": 65
        },
        {
          "output_type": "display_data",
          "data": {
            "text/plain": [
              "<Figure size 432x288 with 2 Axes>"
            ],
            "image/png": "[encoded data removed]"
          },
          "metadata": {
            "needs_background": "light"
          }
        }
      ]
    },
    {
      "cell_type": "markdown",
      "source": [
        "*Latitude and longitude have a high correlation since these parameters are related to the position. However, magnitude and focal depth have a negligible correlation (correlation less than 0.30) to latitude and longitude.*"
      ],
      "metadata": {
        "id": "F92EPubdx_Of"
      }
    },
    {
      "cell_type": "code",
      "source": [
        "sns.pairplot(df_formatnew)"
      ],
      "metadata": {
        "id": "RhG-qbbHR_st",
        "colab": {
          "base_uri": "https://localhost:8080/",
          "height": 743
        },
        "outputId": "50218d42-bf2a-4715-fc0b-adb2c0bc7e97"
      },
      "execution_count": null,
      "outputs": [
        {
          "output_type": "execute_result",
          "data": {
            "text/plain": [
              "<seaborn.axisgrid.PairGrid at 0x7f13bbaa8280>"
            ]
          },
          "metadata": {},
          "execution_count": 66
        },
        {
          "output_type": "display_data",
          "data": {
            "text/plain": [
              "<Figure size 720x720 with 20 Axes>"
            ],
            "image/png": "[encoded data removed]"
          },
          "metadata": {
            "needs_background": "light"
          }
        }
      ]
    },
    {
      "cell_type": "markdown",
      "source": [
        "*Earthquakes that have a magnitude greater than or equal to 6 are usually located below latitude 10 and near longitude 125. The majority of earthquakes have a focal depth of less than 250km. Most of the recorded earthquakes have a magnitude of 2.0~3.0.*"
      ],
      "metadata": {
        "id": "aO3uZCvKzQK9"
      }
    },
    {
      "cell_type": "markdown",
      "source": [
        "# Earthquake Classification"
      ],
      "metadata": {
        "id": "R71u6YqiFwlZ"
      }
    },
    {
      "cell_type": "markdown",
      "source": [
        "*Earthquake can be classified based on Magnitude and focal depth*\n",
        "\n",
        "**Based on Magnitude**\n",
        "*   Micro: < 3.0\n",
        "*   Minor: 3.0 - 3.9\n",
        "*   Light: 4.0 - 4.9\n",
        "*   Moderate: 5.0 - 5.9\n",
        "*   Strong: 6.0 - 6.9\n",
        "*   Major: 7.0 - 7.9\n",
        "*   Great: ≥ 8.0\n",
        "\n",
        "\n",
        "**Based on focal depth**\n",
        "*   Shallow earthquake: 0–70 km\n",
        "*   Intermediate earthquake: 71–300 km\n",
        "*   Deep earthquake: > 300 km\n",
        "\n"
      ],
      "metadata": {
        "id": "8BKx-ZMFF8-Z"
      }
    },
    {
      "cell_type": "code",
      "source": [
        "df_eq = df_formatnew.copy(deep=True)"
      ],
      "metadata": {
        "id": "CEkapzNvKfhN"
      },
      "execution_count": null,
      "outputs": []
    },
    {
      "cell_type": "code",
      "source": [
        "#Creating category based on Magnitude\n",
        "def mag_cat (x):\n",
        "  if x >= 8:\n",
        "    return \"Great\"\n",
        "  elif x >= 7:\n",
        "    return \"Major\"\n",
        "  elif x >= 6:\n",
        "    return \"Strong\"\n",
        "  elif x >= 5:\n",
        "    return \"Moderate\"\n",
        "  elif x >= 4:\n",
        "    return \"Light\"\n",
        "  elif x >= 3:\n",
        "    return \"Minor\"\n",
        "  else: return \"Micro\""
      ],
      "metadata": {
        "id": "5Y7t2aBkNl8D"
      },
      "execution_count": null,
      "outputs": []
    },
    {
      "cell_type": "code",
      "source": [
        "df_eq[\"Cat_mag\"] = df_eq[\"Mag\"].apply(mag_cat)\n",
        "df_eq.head()"
      ],
      "metadata": {
        "id": "5yKHkmYGMqVR",
        "colab": {
          "base_uri": "https://localhost:8080/",
          "height": 337
        },
        "outputId": "6fd0ccf2-35de-458a-8f68-e0b7ec010ff9"
      },
      "execution_count": null,
      "outputs": [
        {
          "output_type": "execute_result",
          "data": {
            "text/plain": [
              "            Date_time  Year Year_month Month        Date      Time  Latitude  \\\n",
              "0 2018-12-31 22:47:00  2018    2018-12    12  2018-12-31  22:47:00      8.62   \n",
              "1 2018-12-31 22:16:00  2018    2018-12    12  2018-12-31  22:16:00     12.92   \n",
              "2 2018-12-31 22:14:00  2018    2018-12    12  2018-12-31  22:14:00      5.61   \n",
              "3 2018-12-31 19:43:00  2018    2018-12    12  2018-12-31  19:43:00      5.52   \n",
              "4 2018-12-31 18:46:00  2018    2018-12    12  2018-12-31  18:46:00      5.48   \n",
              "\n",
              "   Longitude  Depth_km  Mag  \\\n",
              "0     126.01        10  2.0   \n",
              "1     122.80        14  2.5   \n",
              "2     126.92        32  3.7   \n",
              "3     126.96        31  2.7   \n",
              "4     126.35         1  3.2   \n",
              "\n",
              "                                            Location Cat_mag  \n",
              "0     011 km N 61° E of Prosperidad (Agusan Del Sur)   Micro  \n",
              "1               040 km N 80° W of Claveria (Masbate)   Micro  \n",
              "2  148 km S 39° E of Governor Generoso (Davao Ori...   Minor  \n",
              "3  159 km S 38° E of Governor Generoso (Davao Ori...   Micro  \n",
              "4  093 km S 61° E of Jose Abad Santos (Davao Occi...   Minor  "
            ],
            "text/html": [
              "\n",
              "  <div id=\"df-a89f2940-cfa8-42df-ae25-9869bfac1f83\">\n",
              "    <div class=\"colab-df-container\">\n",
              "      <div>\n",
              "<style scoped>\n",
              "    .dataframe tbody tr th:only-of-type {\n",
              "        vertical-align: middle;\n",
              "    }\n",
              "\n",
              "    .dataframe tbody tr th {\n",
              "        vertical-align: top;\n",
              "    }\n",
              "\n",
              "    .dataframe thead th {\n",
              "        text-align: right;\n",
              "    }\n",
              "</style>\n",
              "<table border=\"1\" class=\"dataframe\">\n",
              "  <thead>\n",
              "    <tr style=\"text-align: right;\">\n",
              "      <th></th>\n",
              "      <th>Date_time</th>\n",
              "      <th>Year</th>\n",
              "      <th>Year_month</th>\n",
              "      <th>Month</th>\n",
              "      <th>Date</th>\n",
              "      <th>Time</th>\n",
              "      <th>Latitude</th>\n",
              "      <th>Longitude</th>\n",
              "      <th>Depth_km</th>\n",
              "      <th>Mag</th>\n",
              "      <th>Location</th>\n",
              "      <th>Cat_mag</th>\n",
              "    </tr>\n",
              "  </thead>\n",
              "  <tbody>\n",
              "    <tr>\n",
              "      <th>0</th>\n",
              "      <td>2018-12-31 22:47:00</td>\n",
              "      <td>2018</td>\n",
              "      <td>2018-12</td>\n",
              "      <td>12</td>\n",
              "      <td>2018-12-31</td>\n",
              "      <td>22:47:00</td>\n",
              "      <td>8.62</td>\n",
              "      <td>126.01</td>\n",
              "      <td>10</td>\n",
              "      <td>2.0</td>\n",
              "      <td>011 km N 61° E of Prosperidad (Agusan Del Sur)</td>\n",
              "      <td>Micro</td>\n",
              "    </tr>\n",
              "    <tr>\n",
              "      <th>1</th>\n",
              "      <td>2018-12-31 22:16:00</td>\n",
              "      <td>2018</td>\n",
              "      <td>2018-12</td>\n",
              "      <td>12</td>\n",
              "      <td>2018-12-31</td>\n",
              "      <td>22:16:00</td>\n",
              "      <td>12.92</td>\n",
              "      <td>122.80</td>\n",
              "      <td>14</td>\n",
              "      <td>2.5</td>\n",
              "      <td>040 km N 80° W of Claveria (Masbate)</td>\n",
              "      <td>Micro</td>\n",
              "    </tr>\n",
              "    <tr>\n",
              "      <th>2</th>\n",
              "      <td>2018-12-31 22:14:00</td>\n",
              "      <td>2018</td>\n",
              "      <td>2018-12</td>\n",
              "      <td>12</td>\n",
              "      <td>2018-12-31</td>\n",
              "      <td>22:14:00</td>\n",
              "      <td>5.61</td>\n",
              "      <td>126.92</td>\n",
              "      <td>32</td>\n",
              "      <td>3.7</td>\n",
              "      <td>148 km S 39° E of Governor Generoso (Davao Ori...</td>\n",
              "      <td>Minor</td>\n",
              "    </tr>\n",
              "    <tr>\n",
              "      <th>3</th>\n",
              "      <td>2018-12-31 19:43:00</td>\n",
              "      <td>2018</td>\n",
              "      <td>2018-12</td>\n",
              "      <td>12</td>\n",
              "      <td>2018-12-31</td>\n",
              "      <td>19:43:00</td>\n",
              "      <td>5.52</td>\n",
              "      <td>126.96</td>\n",
              "      <td>31</td>\n",
              "      <td>2.7</td>\n",
              "      <td>159 km S 38° E of Governor Generoso (Davao Ori...</td>\n",
              "      <td>Micro</td>\n",
              "    </tr>\n",
              "    <tr>\n",
              "      <th>4</th>\n",
              "      <td>2018-12-31 18:46:00</td>\n",
              "      <td>2018</td>\n",
              "      <td>2018-12</td>\n",
              "      <td>12</td>\n",
              "      <td>2018-12-31</td>\n",
              "      <td>18:46:00</td>\n",
              "      <td>5.48</td>\n",
              "      <td>126.35</td>\n",
              "      <td>1</td>\n",
              "      <td>3.2</td>\n",
              "      <td>093 km S 61° E of Jose Abad Santos (Davao Occi...</td>\n",
              "      <td>Minor</td>\n",
              "    </tr>\n",
              "  </tbody>\n",
              "</table>\n",
              "</div>\n",
              "      <button class=\"colab-df-convert\" onclick=\"convertToInteractive('df-a89f2940-cfa8-42df-ae25-9869bfac1f83')\"\n",
              "              title=\"Convert this dataframe to an interactive table.\"\n",
              "              style=\"display:none;\">\n",
              "        \n",
              "  <svg xmlns=\"http://www.w3.org/2000/svg\" height=\"24px\"viewBox=\"0 0 24 24\"\n",
              "       width=\"24px\">\n",
              "    <path d=\"M0 0h24v24H0V0z\" fill=\"none\"/>\n",
              "    <path d=\"M18.56 5.44l.94 2.06.94-2.06 2.06-.94-2.06-.94-.94-2.06-.94 2.06-2.06.94zm-11 1L8.5 8.5l.94-2.06 2.06-.94-2.06-.94L8.5 2.5l-.94 2.06-2.06.94zm10 10l.94 2.06.94-2.06 2.06-.94-2.06-.94-.94-2.06-.94 2.06-2.06.94z\"/><path d=\"M17.41 7.96l-1.37-1.37c-.4-.4-.92-.59-1.43-.59-.52 0-1.04.2-1.43.59L10.3 9.45l-7.72 7.72c-.78.78-.78 2.05 0 2.83L4 21.41c.39.39.9.59 1.41.59.51 0 1.02-.2 1.41-.59l7.78-7.78 2.81-2.81c.8-.78.8-2.07 0-2.86zM5.41 20L4 18.59l7.72-7.72 1.47 1.35L5.41 20z\"/>\n",
              "  </svg>\n",
              "      </button>\n",
              "      \n",
              "  <style>\n",
              "    .colab-df-container {\n",
              "      display:flex;\n",
              "      flex-wrap:wrap;\n",
              "      gap: 12px;\n",
              "    }\n",
              "\n",
              "    .colab-df-convert {\n",
              "      background-color: #E8F0FE;\n",
              "      border: none;\n",
              "      border-radius: 50%;\n",
              "      cursor: pointer;\n",
              "      display: none;\n",
              "      fill: #1967D2;\n",
              "      height: 32px;\n",
              "      padding: 0 0 0 0;\n",
              "      width: 32px;\n",
              "    }\n",
              "\n",
              "    .colab-df-convert:hover {\n",
              "      background-color: #E2EBFA;\n",
              "      box-shadow: 0px 1px 2px rgba(60, 64, 67, 0.3), 0px 1px 3px 1px rgba(60, 64, 67, 0.15);\n",
              "      fill: #174EA6;\n",
              "    }\n",
              "\n",
              "    [theme=dark] .colab-df-convert {\n",
              "      background-color: #3B4455;\n",
              "      fill: #D2E3FC;\n",
              "    }\n",
              "\n",
              "    [theme=dark] .colab-df-convert:hover {\n",
              "      background-color: #434B5C;\n",
              "      box-shadow: 0px 1px 3px 1px rgba(0, 0, 0, 0.15);\n",
              "      filter: drop-shadow(0px 1px 2px rgba(0, 0, 0, 0.3));\n",
              "      fill: #FFFFFF;\n",
              "    }\n",
              "  </style>\n",
              "\n",
              "      <script>\n",
              "        const buttonEl =\n",
              "          document.querySelector('#df-a89f2940-cfa8-42df-ae25-9869bfac1f83 button.colab-df-convert');\n",
              "        buttonEl.style.display =\n",
              "          google.colab.kernel.accessAllowed ? 'block' : 'none';\n",
              "\n",
              "        async function convertToInteractive(key) {\n",
              "          const element = document.querySelector('#df-a89f2940-cfa8-42df-ae25-9869bfac1f83');\n",
              "          const dataTable =\n",
              "            await google.colab.kernel.invokeFunction('convertToInteractive',\n",
              "                                                     [key], {});\n",
              "          if (!dataTable) return;\n",
              "\n",
              "          const docLinkHtml = 'Like what you see? Visit the ' +\n",
              "            '<a target=\"_blank\" href=https://colab.research.google.com/notebooks/data_table.ipynb>data table notebook</a>'\n",
              "            + ' to learn more about interactive tables.';\n",
              "          element.innerHTML = '';\n",
              "          dataTable['output_type'] = 'display_data';\n",
              "          await google.colab.output.renderOutput(dataTable, element);\n",
              "          const docLink = document.createElement('div');\n",
              "          docLink.innerHTML = docLinkHtml;\n",
              "          element.appendChild(docLink);\n",
              "        }\n",
              "      </script>\n",
              "    </div>\n",
              "  </div>\n",
              "  "
            ]
          },
          "metadata": {},
          "execution_count": 69
        }
      ]
    },
    {
      "cell_type": "code",
      "source": [
        "#Creating category based on focal depth\n",
        "def depth_cat (x):\n",
        "  if x > 300:\n",
        "    return \"Deep\"\n",
        "  if x > 70:\n",
        "    return \"Intermediate\"\n",
        "  else: return \"Shallow\""
      ],
      "metadata": {
        "id": "WFuNC2VfK4sk"
      },
      "execution_count": null,
      "outputs": []
    },
    {
      "cell_type": "code",
      "source": [
        "df_eq[\"Cat_depth\"] = df_eq[\"Depth_km\"].apply(depth_cat)\n",
        "df_eq.head()"
      ],
      "metadata": {
        "id": "mTmWEOOfOd1R",
        "colab": {
          "base_uri": "https://localhost:8080/",
          "height": 337
        },
        "outputId": "e2dc59a7-b8f9-4936-bbf6-123084004c88"
      },
      "execution_count": null,
      "outputs": [
        {
          "output_type": "execute_result",
          "data": {
            "text/plain": [
              "            Date_time  Year Year_month Month        Date      Time  Latitude  \\\n",
              "0 2018-12-31 22:47:00  2018    2018-12    12  2018-12-31  22:47:00      8.62   \n",
              "1 2018-12-31 22:16:00  2018    2018-12    12  2018-12-31  22:16:00     12.92   \n",
              "2 2018-12-31 22:14:00  2018    2018-12    12  2018-12-31  22:14:00      5.61   \n",
              "3 2018-12-31 19:43:00  2018    2018-12    12  2018-12-31  19:43:00      5.52   \n",
              "4 2018-12-31 18:46:00  2018    2018-12    12  2018-12-31  18:46:00      5.48   \n",
              "\n",
              "   Longitude  Depth_km  Mag  \\\n",
              "0     126.01        10  2.0   \n",
              "1     122.80        14  2.5   \n",
              "2     126.92        32  3.7   \n",
              "3     126.96        31  2.7   \n",
              "4     126.35         1  3.2   \n",
              "\n",
              "                                            Location Cat_mag Cat_depth  \n",
              "0     011 km N 61° E of Prosperidad (Agusan Del Sur)   Micro   Shallow  \n",
              "1               040 km N 80° W of Claveria (Masbate)   Micro   Shallow  \n",
              "2  148 km S 39° E of Governor Generoso (Davao Ori...   Minor   Shallow  \n",
              "3  159 km S 38° E of Governor Generoso (Davao Ori...   Micro   Shallow  \n",
              "4  093 km S 61° E of Jose Abad Santos (Davao Occi...   Minor   Shallow  "
            ],
            "text/html": [
              "\n",
              "  <div id=\"df-520c4702-a3dd-4fda-8ccf-2e1e273509ad\">\n",
              "    <div class=\"colab-df-container\">\n",
              "      <div>\n",
              "<style scoped>\n",
              "    .dataframe tbody tr th:only-of-type {\n",
              "        vertical-align: middle;\n",
              "    }\n",
              "\n",
              "    .dataframe tbody tr th {\n",
              "        vertical-align: top;\n",
              "    }\n",
              "\n",
              "    .dataframe thead th {\n",
              "        text-align: right;\n",
              "    }\n",
              "</style>\n",
              "<table border=\"1\" class=\"dataframe\">\n",
              "  <thead>\n",
              "    <tr style=\"text-align: right;\">\n",
              "      <th></th>\n",
              "      <th>Date_time</th>\n",
              "      <th>Year</th>\n",
              "      <th>Year_month</th>\n",
              "      <th>Month</th>\n",
              "      <th>Date</th>\n",
              "      <th>Time</th>\n",
              "      <th>Latitude</th>\n",
              "      <th>Longitude</th>\n",
              "      <th>Depth_km</th>\n",
              "      <th>Mag</th>\n",
              "      <th>Location</th>\n",
              "      <th>Cat_mag</th>\n",
              "      <th>Cat_depth</th>\n",
              "    </tr>\n",
              "  </thead>\n",
              "  <tbody>\n",
              "    <tr>\n",
              "      <th>0</th>\n",
              "      <td>2018-12-31 22:47:00</td>\n",
              "      <td>2018</td>\n",
              "      <td>2018-12</td>\n",
              "      <td>12</td>\n",
              "      <td>2018-12-31</td>\n",
              "      <td>22:47:00</td>\n",
              "      <td>8.62</td>\n",
              "      <td>126.01</td>\n",
              "      <td>10</td>\n",
              "      <td>2.0</td>\n",
              "      <td>011 km N 61° E of Prosperidad (Agusan Del Sur)</td>\n",
              "      <td>Micro</td>\n",
              "      <td>Shallow</td>\n",
              "    </tr>\n",
              "    <tr>\n",
              "      <th>1</th>\n",
              "      <td>2018-12-31 22:16:00</td>\n",
              "      <td>2018</td>\n",
              "      <td>2018-12</td>\n",
              "      <td>12</td>\n",
              "      <td>2018-12-31</td>\n",
              "      <td>22:16:00</td>\n",
              "      <td>12.92</td>\n",
              "      <td>122.80</td>\n",
              "      <td>14</td>\n",
              "      <td>2.5</td>\n",
              "      <td>040 km N 80° W of Claveria (Masbate)</td>\n",
              "      <td>Micro</td>\n",
              "      <td>Shallow</td>\n",
              "    </tr>\n",
              "    <tr>\n",
              "      <th>2</th>\n",
              "      <td>2018-12-31 22:14:00</td>\n",
              "      <td>2018</td>\n",
              "      <td>2018-12</td>\n",
              "      <td>12</td>\n",
              "      <td>2018-12-31</td>\n",
              "      <td>22:14:00</td>\n",
              "      <td>5.61</td>\n",
              "      <td>126.92</td>\n",
              "      <td>32</td>\n",
              "      <td>3.7</td>\n",
              "      <td>148 km S 39° E of Governor Generoso (Davao Ori...</td>\n",
              "      <td>Minor</td>\n",
              "      <td>Shallow</td>\n",
              "    </tr>\n",
              "    <tr>\n",
              "      <th>3</th>\n",
              "      <td>2018-12-31 19:43:00</td>\n",
              "      <td>2018</td>\n",
              "      <td>2018-12</td>\n",
              "      <td>12</td>\n",
              "      <td>2018-12-31</td>\n",
              "      <td>19:43:00</td>\n",
              "      <td>5.52</td>\n",
              "      <td>126.96</td>\n",
              "      <td>31</td>\n",
              "      <td>2.7</td>\n",
              "      <td>159 km S 38° E of Governor Generoso (Davao Ori...</td>\n",
              "      <td>Micro</td>\n",
              "      <td>Shallow</td>\n",
              "    </tr>\n",
              "    <tr>\n",
              "      <th>4</th>\n",
              "      <td>2018-12-31 18:46:00</td>\n",
              "      <td>2018</td>\n",
              "      <td>2018-12</td>\n",
              "      <td>12</td>\n",
              "      <td>2018-12-31</td>\n",
              "      <td>18:46:00</td>\n",
              "      <td>5.48</td>\n",
              "      <td>126.35</td>\n",
              "      <td>1</td>\n",
              "      <td>3.2</td>\n",
              "      <td>093 km S 61° E of Jose Abad Santos (Davao Occi...</td>\n",
              "      <td>Minor</td>\n",
              "      <td>Shallow</td>\n",
              "    </tr>\n",
              "  </tbody>\n",
              "</table>\n",
              "</div>\n",
              "      <button class=\"colab-df-convert\" onclick=\"convertToInteractive('df-520c4702-a3dd-4fda-8ccf-2e1e273509ad')\"\n",
              "              title=\"Convert this dataframe to an interactive table.\"\n",
              "              style=\"display:none;\">\n",
              "        \n",
              "  <svg xmlns=\"http://www.w3.org/2000/svg\" height=\"24px\"viewBox=\"0 0 24 24\"\n",
              "       width=\"24px\">\n",
              "    <path d=\"M0 0h24v24H0V0z\" fill=\"none\"/>\n",
              "    <path d=\"M18.56 5.44l.94 2.06.94-2.06 2.06-.94-2.06-.94-.94-2.06-.94 2.06-2.06.94zm-11 1L8.5 8.5l.94-2.06 2.06-.94-2.06-.94L8.5 2.5l-.94 2.06-2.06.94zm10 10l.94 2.06.94-2.06 2.06-.94-2.06-.94-.94-2.06-.94 2.06-2.06.94z\"/><path d=\"M17.41 7.96l-1.37-1.37c-.4-.4-.92-.59-1.43-.59-.52 0-1.04.2-1.43.59L10.3 9.45l-7.72 7.72c-.78.78-.78 2.05 0 2.83L4 21.41c.39.39.9.59 1.41.59.51 0 1.02-.2 1.41-.59l7.78-7.78 2.81-2.81c.8-.78.8-2.07 0-2.86zM5.41 20L4 18.59l7.72-7.72 1.47 1.35L5.41 20z\"/>\n",
              "  </svg>\n",
              "      </button>\n",
              "      \n",
              "  <style>\n",
              "    .colab-df-container {\n",
              "      display:flex;\n",
              "      flex-wrap:wrap;\n",
              "      gap: 12px;\n",
              "    }\n",
              "\n",
              "    .colab-df-convert {\n",
              "      background-color: #E8F0FE;\n",
              "      border: none;\n",
              "      border-radius: 50%;\n",
              "      cursor: pointer;\n",
              "      display: none;\n",
              "      fill: #1967D2;\n",
              "      height: 32px;\n",
              "      padding: 0 0 0 0;\n",
              "      width: 32px;\n",
              "    }\n",
              "\n",
              "    .colab-df-convert:hover {\n",
              "      background-color: #E2EBFA;\n",
              "      box-shadow: 0px 1px 2px rgba(60, 64, 67, 0.3), 0px 1px 3px 1px rgba(60, 64, 67, 0.15);\n",
              "      fill: #174EA6;\n",
              "    }\n",
              "\n",
              "    [theme=dark] .colab-df-convert {\n",
              "      background-color: #3B4455;\n",
              "      fill: #D2E3FC;\n",
              "    }\n",
              "\n",
              "    [theme=dark] .colab-df-convert:hover {\n",
              "      background-color: #434B5C;\n",
              "      box-shadow: 0px 1px 3px 1px rgba(0, 0, 0, 0.15);\n",
              "      filter: drop-shadow(0px 1px 2px rgba(0, 0, 0, 0.3));\n",
              "      fill: #FFFFFF;\n",
              "    }\n",
              "  </style>\n",
              "\n",
              "      <script>\n",
              "        const buttonEl =\n",
              "          document.querySelector('#df-520c4702-a3dd-4fda-8ccf-2e1e273509ad button.colab-df-convert');\n",
              "        buttonEl.style.display =\n",
              "          google.colab.kernel.accessAllowed ? 'block' : 'none';\n",
              "\n",
              "        async function convertToInteractive(key) {\n",
              "          const element = document.querySelector('#df-520c4702-a3dd-4fda-8ccf-2e1e273509ad');\n",
              "          const dataTable =\n",
              "            await google.colab.kernel.invokeFunction('convertToInteractive',\n",
              "                                                     [key], {});\n",
              "          if (!dataTable) return;\n",
              "\n",
              "          const docLinkHtml = 'Like what you see? Visit the ' +\n",
              "            '<a target=\"_blank\" href=https://colab.research.google.com/notebooks/data_table.ipynb>data table notebook</a>'\n",
              "            + ' to learn more about interactive tables.';\n",
              "          element.innerHTML = '';\n",
              "          dataTable['output_type'] = 'display_data';\n",
              "          await google.colab.output.renderOutput(dataTable, element);\n",
              "          const docLink = document.createElement('div');\n",
              "          docLink.innerHTML = docLinkHtml;\n",
              "          element.appendChild(docLink);\n",
              "        }\n",
              "      </script>\n",
              "    </div>\n",
              "  </div>\n",
              "  "
            ]
          },
          "metadata": {},
          "execution_count": 71
        }
      ]
    },
    {
      "cell_type": "markdown",
      "source": [
        "# Visualization"
      ],
      "metadata": {
        "id": "jie0U135QJ8z"
      }
    },
    {
      "cell_type": "code",
      "source": [
        "#Line graph for yearly earthquake occurence\n",
        "df_year_mag = df_eq.groupby(['Year','Mag'],as_index=False).agg(Frequency=('Mag','count'))\n",
        "df_year_mag.sort_values(by=['Year'])\n",
        "\n",
        "fig_line01 = px.line(data_frame=df_year_mag, x=\"Mag\", y=\"Frequency\", color =\"Year\", title=\"Yearly Earthquake Occurrence by Magnitude\")\n",
        "fig_line01.update_layout(xaxis_title = 'Magnitude')\n",
        "fig_line01.show()"
      ],
      "metadata": {
        "id": "iJISDWbGbzIz",
        "colab": {
          "base_uri": "https://localhost:8080/",
          "height": 542
        },
        "outputId": "99444800-92ff-46cf-8cc0-d67533aeaeb7"
      },
      "execution_count": null,
      "outputs": [
        {
          "output_type": "display_data",
          "data": {
            "text/html": [
              "<html>\n",
              "<head><meta charset=\"utf-8\" /></head>\n",
              "<body>\n",
              "    <div>            <script src=\"https://cdnjs.cloudflare.com/ajax/libs/mathjax/2.7.5/MathJax.js?config=TeX-AMS-MML_SVG\"></script><script type=\"text/javascript\">if (window.MathJax) {MathJax.Hub.Config({SVG: {font: \"STIX-Web\"}});}</script>                <script type=\"text/javascript\">window.PlotlyConfig = {MathJaxConfig: 'local'};</script>\n",
              "        <script src=\"https://cdn.plot.ly/plotly-2.8.3.min.js\"></script>                <div id=\"4df7881a-94a6-4788-bd74-41e636ff608f\" class=\"plotly-graph-div\" style=\"height:525px; width:100%;\"></div>            <script type=\"text/javascript\">                                    window.PLOTLYENV=window.PLOTLYENV || {};                                    if (document.getElementById(\"4df7881a-94a6-4788-bd74-41e636ff608f\")) {                    Plotly.newPlot(                        \"4df7881a-94a6-4788-bd74-41e636ff608f\",                        [{\"hovertemplate\":\"Year=2018<br>Mag=%{x}<br>Frequency=%{y}<extra></extra>\",\"legendgroup\":\"2018\",\"line\":{\"color\":\"#636efa\",\"dash\":\"solid\"},\"marker\":{\"symbol\":\"circle\"},\"mode\":\"lines\",\"name\":\"2018\",\"orientation\":\"v\",\"showlegend\":true,\"x\":[1.2,1.3,1.4,1.5,1.6,1.7,1.8,1.9,2.0,2.1,2.2,2.3,2.4,2.5,2.6,2.7,2.8,2.9,3.0,3.1,3.2,3.3,3.4,3.5,3.6,3.7,3.8,3.9,4.0,4.1,4.2,4.3,4.4,4.5,4.6,4.7,4.8,4.9,5.0,5.1,5.2,5.3,5.4,5.5,5.6,5.7,5.9,6.0,6.4,7.2],\"xaxis\":\"x\",\"y\":[2,1,6,13,39,82,135,139,451,468,401,454,485,470,399,392,339,293,253,240,170,152,151,150,90,84,66,49,56,34,30,27,12,14,18,16,13,15,8,10,8,2,6,1,2,1,1,3,1,1],\"yaxis\":\"y\",\"type\":\"scatter\"},{\"hovertemplate\":\"Year=2019<br>Mag=%{x}<br>Frequency=%{y}<extra></extra>\",\"legendgroup\":\"2019\",\"line\":{\"color\":\"#EF553B\",\"dash\":\"solid\"},\"marker\":{\"symbol\":\"circle\"},\"mode\":\"lines\",\"name\":\"2019\",\"orientation\":\"v\",\"showlegend\":true,\"x\":[1.2,1.3,1.4,1.5,1.6,1.7,1.8,1.9,2.0,2.1,2.2,2.3,2.4,2.5,2.6,2.7,2.8,2.9,3.0,3.1,3.2,3.3,3.4,3.5,3.6,3.7,3.8,3.9,4.0,4.1,4.2,4.3,4.4,4.5,4.6,4.7,4.8,4.9,5.0,5.1,5.2,5.3,5.4,5.5,5.6,5.8,5.9,6.0,6.1,6.2,6.3,6.4,6.5,6.6,6.9],\"xaxis\":\"x\",\"y\":[1,6,43,109,214,352,488,502,989,931,919,975,898,861,740,673,601,512,514,423,358,308,255,267,175,138,121,91,89,66,58,56,47,30,23,33,29,19,12,7,9,7,8,11,5,2,4,1,2,2,1,1,2,1,1],\"yaxis\":\"y\",\"type\":\"scatter\"},{\"hovertemplate\":\"Year=2020<br>Mag=%{x}<br>Frequency=%{y}<extra></extra>\",\"legendgroup\":\"2020\",\"line\":{\"color\":\"#00cc96\",\"dash\":\"solid\"},\"marker\":{\"symbol\":\"circle\"},\"mode\":\"lines\",\"name\":\"2020\",\"orientation\":\"v\",\"showlegend\":true,\"x\":[1.0,1.2,1.3,1.4,1.5,1.6,1.7,1.8,1.9,2.0,2.1,2.2,2.3,2.4,2.5,2.6,2.7,2.8,2.9,3.0,3.1,3.2,3.3,3.4,3.5,3.6,3.7,3.8,3.9,4.0,4.1,4.2,4.3,4.4,4.5,4.6,4.7,4.8,4.9,5.0,5.1,5.2,5.3,5.4,5.5,5.6,5.7,5.8,5.9,6.0,6.1,6.2,6.3,6.4,6.6],\"xaxis\":\"x\",\"y\":[2,8,20,94,185,292,354,566,536,940,966,994,929,1003,799,858,703,694,593,509,487,381,417,317,273,218,169,152,117,99,61,74,44,46,31,33,17,28,19,12,9,6,2,9,3,3,2,1,1,2,2,1,1,2,2],\"yaxis\":\"y\",\"type\":\"scatter\"},{\"hovertemplate\":\"Year=2021<br>Mag=%{x}<br>Frequency=%{y}<extra></extra>\",\"legendgroup\":\"2021\",\"line\":{\"color\":\"#ab63fa\",\"dash\":\"solid\"},\"marker\":{\"symbol\":\"circle\"},\"mode\":\"lines\",\"name\":\"2021\",\"orientation\":\"v\",\"showlegend\":true,\"x\":[1.1,1.3,1.4,1.5,1.6,1.7,1.8,1.9,2.0,2.1,2.2,2.3,2.4,2.5,2.6,2.7,2.8,2.9,3.0,3.1,3.2,3.3,3.4,3.5,3.6,3.7,3.8,3.9,4.0,4.1,4.2,4.3,4.4,4.5,4.6,4.7,4.8,4.9,5.0,5.1,5.2,5.3,5.4,5.5,5.6,5.7,5.8,6.1,6.2,6.6,7.1],\"xaxis\":\"x\",\"y\":[1,1,13,118,137,273,484,471,950,859,869,781,834,811,731,613,583,452,431,424,390,276,279,231,185,142,127,85,82,71,55,53,48,33,27,26,25,26,12,15,11,7,5,2,4,4,2,3,1,1,2],\"yaxis\":\"y\",\"type\":\"scatter\"},{\"hovertemplate\":\"Year=2022<br>Mag=%{x}<br>Frequency=%{y}<extra></extra>\",\"legendgroup\":\"2022\",\"line\":{\"color\":\"#FFA15A\",\"dash\":\"solid\"},\"marker\":{\"symbol\":\"circle\"},\"mode\":\"lines\",\"name\":\"2022\",\"orientation\":\"v\",\"showlegend\":true,\"x\":[1.2,1.3,1.4,1.5,1.6,1.7,1.8,1.9,2.0,2.1,2.2,2.3,2.4,2.5,2.6,2.7,2.8,2.9,3.0,3.1,3.2,3.3,3.4,3.5,3.6,3.7,3.8,3.9,4.0,4.1,4.2,4.3,4.4,4.5,4.6,4.7,4.8,4.9,5.0,5.1,5.2,5.3,5.4,5.5,5.6,5.7,5.9,6.0,6.1,6.2,6.4,7.0],\"xaxis\":\"x\",\"y\":[4,32,122,337,447,564,701,664,1028,974,969,956,928,879,797,627,597,490,473,397,373,264,278,223,190,151,174,96,81,86,70,49,64,40,36,25,22,27,16,17,19,10,6,4,6,4,1,2,3,1,2,1],\"yaxis\":\"y\",\"type\":\"scatter\"}],                        {\"template\":{\"data\":{\"bar\":[{\"error_x\":{\"color\":\"#2a3f5f\"},\"error_y\":{\"color\":\"#2a3f5f\"},\"marker\":{\"line\":{\"color\":\"#E5ECF6\",\"width\":0.5},\"pattern\":{\"fillmode\":\"overlay\",\"size\":10,\"solidity\":0.2}},\"type\":\"bar\"}],\"barpolar\":[{\"marker\":{\"line\":{\"color\":\"#E5ECF6\",\"width\":0.5},\"pattern\":{\"fillmode\":\"overlay\",\"size\":10,\"solidity\":0.2}},\"type\":\"barpolar\"}],\"carpet\":[{\"aaxis\":{\"endlinecolor\":\"#2a3f5f\",\"gridcolor\":\"white\",\"linecolor\":\"white\",\"minorgridcolor\":\"white\",\"startlinecolor\":\"#2a3f5f\"},\"baxis\":{\"endlinecolor\":\"#2a3f5f\",\"gridcolor\":\"white\",\"linecolor\":\"white\",\"minorgridcolor\":\"white\",\"startlinecolor\":\"#2a3f5f\"},\"type\":\"carpet\"}],\"choropleth\":[{\"colorbar\":{\"outlinewidth\":0,\"ticks\":\"\"},\"type\":\"choropleth\"}],\"contour\":[{\"colorbar\":{\"outlinewidth\":0,\"ticks\":\"\"},\"colorscale\":[[0.0,\"#0d0887\"],[0.1111111111111111,\"#46039f\"],[0.2222222222222222,\"#7201a8\"],[0.3333333333333333,\"#9c179e\"],[0.4444444444444444,\"#bd3786\"],[0.5555555555555556,\"#d8576b\"],[0.6666666666666666,\"#ed7953\"],[0.7777777777777778,\"#fb9f3a\"],[0.8888888888888888,\"#fdca26\"],[1.0,\"#f0f921\"]],\"type\":\"contour\"}],\"contourcarpet\":[{\"colorbar\":{\"outlinewidth\":0,\"ticks\":\"\"},\"type\":\"contourcarpet\"}],\"heatmap\":[{\"colorbar\":{\"outlinewidth\":0,\"ticks\":\"\"},\"colorscale\":[[0.0,\"#0d0887\"],[0.1111111111111111,\"#46039f\"],[0.2222222222222222,\"#7201a8\"],[0.3333333333333333,\"#9c179e\"],[0.4444444444444444,\"#bd3786\"],[0.5555555555555556,\"#d8576b\"],[0.6666666666666666,\"#ed7953\"],[0.7777777777777778,\"#fb9f3a\"],[0.8888888888888888,\"#fdca26\"],[1.0,\"#f0f921\"]],\"type\":\"heatmap\"}],\"heatmapgl\":[{\"colorbar\":{\"outlinewidth\":0,\"ticks\":\"\"},\"colorscale\":[[0.0,\"#0d0887\"],[0.1111111111111111,\"#46039f\"],[0.2222222222222222,\"#7201a8\"],[0.3333333333333333,\"#9c179e\"],[0.4444444444444444,\"#bd3786\"],[0.5555555555555556,\"#d8576b\"],[0.6666666666666666,\"#ed7953\"],[0.7777777777777778,\"#fb9f3a\"],[0.8888888888888888,\"#fdca26\"],[1.0,\"#f0f921\"]],\"type\":\"heatmapgl\"}],\"histogram\":[{\"marker\":{\"pattern\":{\"fillmode\":\"overlay\",\"size\":10,\"solidity\":0.2}},\"type\":\"histogram\"}],\"histogram2d\":[{\"colorbar\":{\"outlinewidth\":0,\"ticks\":\"\"},\"colorscale\":[[0.0,\"#0d0887\"],[0.1111111111111111,\"#46039f\"],[0.2222222222222222,\"#7201a8\"],[0.3333333333333333,\"#9c179e\"],[0.4444444444444444,\"#bd3786\"],[0.5555555555555556,\"#d8576b\"],[0.6666666666666666,\"#ed7953\"],[0.7777777777777778,\"#fb9f3a\"],[0.8888888888888888,\"#fdca26\"],[1.0,\"#f0f921\"]],\"type\":\"histogram2d\"}],\"histogram2dcontour\":[{\"colorbar\":{\"outlinewidth\":0,\"ticks\":\"\"},\"colorscale\":[[0.0,\"#0d0887\"],[0.1111111111111111,\"#46039f\"],[0.2222222222222222,\"#7201a8\"],[0.3333333333333333,\"#9c179e\"],[0.4444444444444444,\"#bd3786\"],[0.5555555555555556,\"#d8576b\"],[0.6666666666666666,\"#ed7953\"],[0.7777777777777778,\"#fb9f3a\"],[0.8888888888888888,\"#fdca26\"],[1.0,\"#f0f921\"]],\"type\":\"histogram2dcontour\"}],\"mesh3d\":[{\"colorbar\":{\"outlinewidth\":0,\"ticks\":\"\"},\"type\":\"mesh3d\"}],\"parcoords\":[{\"line\":{\"colorbar\":{\"outlinewidth\":0,\"ticks\":\"\"}},\"type\":\"parcoords\"}],\"pie\":[{\"automargin\":true,\"type\":\"pie\"}],\"scatter\":[{\"marker\":{\"colorbar\":{\"outlinewidth\":0,\"ticks\":\"\"}},\"type\":\"scatter\"}],\"scatter3d\":[{\"line\":{\"colorbar\":{\"outlinewidth\":0,\"ticks\":\"\"}},\"marker\":{\"colorbar\":{\"outlinewidth\":0,\"ticks\":\"\"}},\"type\":\"scatter3d\"}],\"scattercarpet\":[{\"marker\":{\"colorbar\":{\"outlinewidth\":0,\"ticks\":\"\"}},\"type\":\"scattercarpet\"}],\"scattergeo\":[{\"marker\":{\"colorbar\":{\"outlinewidth\":0,\"ticks\":\"\"}},\"type\":\"scattergeo\"}],\"scattergl\":[{\"marker\":{\"colorbar\":{\"outlinewidth\":0,\"ticks\":\"\"}},\"type\":\"scattergl\"}],\"scattermapbox\":[{\"marker\":{\"colorbar\":{\"outlinewidth\":0,\"ticks\":\"\"}},\"type\":\"scattermapbox\"}],\"scatterpolar\":[{\"marker\":{\"colorbar\":{\"outlinewidth\":0,\"ticks\":\"\"}},\"type\":\"scatterpolar\"}],\"scatterpolargl\":[{\"marker\":{\"colorbar\":{\"outlinewidth\":0,\"ticks\":\"\"}},\"type\":\"scatterpolargl\"}],\"scatterternary\":[{\"marker\":{\"colorbar\":{\"outlinewidth\":0,\"ticks\":\"\"}},\"type\":\"scatterternary\"}],\"surface\":[{\"colorbar\":{\"outlinewidth\":0,\"ticks\":\"\"},\"colorscale\":[[0.0,\"#0d0887\"],[0.1111111111111111,\"#46039f\"],[0.2222222222222222,\"#7201a8\"],[0.3333333333333333,\"#9c179e\"],[0.4444444444444444,\"#bd3786\"],[0.5555555555555556,\"#d8576b\"],[0.6666666666666666,\"#ed7953\"],[0.7777777777777778,\"#fb9f3a\"],[0.8888888888888888,\"#fdca26\"],[1.0,\"#f0f921\"]],\"type\":\"surface\"}],\"table\":[{\"cells\":{\"fill\":{\"color\":\"#EBF0F8\"},\"line\":{\"color\":\"white\"}},\"header\":{\"fill\":{\"color\":\"#C8D4E3\"},\"line\":{\"color\":\"white\"}},\"type\":\"table\"}]},\"layout\":{\"annotationdefaults\":{\"arrowcolor\":\"#2a3f5f\",\"arrowhead\":0,\"arrowwidth\":1},\"autotypenumbers\":\"strict\",\"coloraxis\":{\"colorbar\":{\"outlinewidth\":0,\"ticks\":\"\"}},\"colorscale\":{\"diverging\":[[0,\"#8e0152\"],[0.1,\"#c51b7d\"],[0.2,\"#de77ae\"],[0.3,\"#f1b6da\"],[0.4,\"#fde0ef\"],[0.5,\"#f7f7f7\"],[0.6,\"#e6f5d0\"],[0.7,\"#b8e186\"],[0.8,\"#7fbc41\"],[0.9,\"#4d9221\"],[1,\"#276419\"]],\"sequential\":[[0.0,\"#0d0887\"],[0.1111111111111111,\"#46039f\"],[0.2222222222222222,\"#7201a8\"],[0.3333333333333333,\"#9c179e\"],[0.4444444444444444,\"#bd3786\"],[0.5555555555555556,\"#d8576b\"],[0.6666666666666666,\"#ed7953\"],[0.7777777777777778,\"#fb9f3a\"],[0.8888888888888888,\"#fdca26\"],[1.0,\"#f0f921\"]],\"sequentialminus\":[[0.0,\"#0d0887\"],[0.1111111111111111,\"#46039f\"],[0.2222222222222222,\"#7201a8\"],[0.3333333333333333,\"#9c179e\"],[0.4444444444444444,\"#bd3786\"],[0.5555555555555556,\"#d8576b\"],[0.6666666666666666,\"#ed7953\"],[0.7777777777777778,\"#fb9f3a\"],[0.8888888888888888,\"#fdca26\"],[1.0,\"#f0f921\"]]},\"colorway\":[\"#636efa\",\"#EF553B\",\"#00cc96\",\"#ab63fa\",\"#FFA15A\",\"#19d3f3\",\"#FF6692\",\"#B6E880\",\"#FF97FF\",\"#FECB52\"],\"font\":{\"color\":\"#2a3f5f\"},\"geo\":{\"bgcolor\":\"white\",\"lakecolor\":\"white\",\"landcolor\":\"#E5ECF6\",\"showlakes\":true,\"showland\":true,\"subunitcolor\":\"white\"},\"hoverlabel\":{\"align\":\"left\"},\"hovermode\":\"closest\",\"mapbox\":{\"style\":\"light\"},\"paper_bgcolor\":\"white\",\"plot_bgcolor\":\"#E5ECF6\",\"polar\":{\"angularaxis\":{\"gridcolor\":\"white\",\"linecolor\":\"white\",\"ticks\":\"\"},\"bgcolor\":\"#E5ECF6\",\"radialaxis\":{\"gridcolor\":\"white\",\"linecolor\":\"white\",\"ticks\":\"\"}},\"scene\":{\"xaxis\":{\"backgroundcolor\":\"#E5ECF6\",\"gridcolor\":\"white\",\"gridwidth\":2,\"linecolor\":\"white\",\"showbackground\":true,\"ticks\":\"\",\"zerolinecolor\":\"white\"},\"yaxis\":{\"backgroundcolor\":\"#E5ECF6\",\"gridcolor\":\"white\",\"gridwidth\":2,\"linecolor\":\"white\",\"showbackground\":true,\"ticks\":\"\",\"zerolinecolor\":\"white\"},\"zaxis\":{\"backgroundcolor\":\"#E5ECF6\",\"gridcolor\":\"white\",\"gridwidth\":2,\"linecolor\":\"white\",\"showbackground\":true,\"ticks\":\"\",\"zerolinecolor\":\"white\"}},\"shapedefaults\":{\"line\":{\"color\":\"#2a3f5f\"}},\"ternary\":{\"aaxis\":{\"gridcolor\":\"white\",\"linecolor\":\"white\",\"ticks\":\"\"},\"baxis\":{\"gridcolor\":\"white\",\"linecolor\":\"white\",\"ticks\":\"\"},\"bgcolor\":\"#E5ECF6\",\"caxis\":{\"gridcolor\":\"white\",\"linecolor\":\"white\",\"ticks\":\"\"}},\"title\":{\"x\":0.05},\"xaxis\":{\"automargin\":true,\"gridcolor\":\"white\",\"linecolor\":\"white\",\"ticks\":\"\",\"title\":{\"standoff\":15},\"zerolinecolor\":\"white\",\"zerolinewidth\":2},\"yaxis\":{\"automargin\":true,\"gridcolor\":\"white\",\"linecolor\":\"white\",\"ticks\":\"\",\"title\":{\"standoff\":15},\"zerolinecolor\":\"white\",\"zerolinewidth\":2}}},\"xaxis\":{\"anchor\":\"y\",\"domain\":[0.0,1.0],\"title\":{\"text\":\"Magnitude\"}},\"yaxis\":{\"anchor\":\"x\",\"domain\":[0.0,1.0],\"title\":{\"text\":\"Frequency\"}},\"legend\":{\"title\":{\"text\":\"Year\"},\"tracegroupgap\":0},\"title\":{\"text\":\"Yearly Earthquake Occurrence by Magnitude\"}},                        {\"responsive\": true}                    ).then(function(){\n",
              "                            \n",
              "var gd = document.getElementById('4df7881a-94a6-4788-bd74-41e636ff608f');\n",
              "var x = new MutationObserver(function (mutations, observer) {{\n",
              "        var display = window.getComputedStyle(gd).display;\n",
              "        if (!display || display === 'none') {{\n",
              "            console.log([gd, 'removed!']);\n",
              "            Plotly.purge(gd);\n",
              "            observer.disconnect();\n",
              "        }}\n",
              "}});\n",
              "\n",
              "// Listen for the removal of the full notebook cells\n",
              "var notebookContainer = gd.closest('#notebook-container');\n",
              "if (notebookContainer) {{\n",
              "    x.observe(notebookContainer, {childList: true});\n",
              "}}\n",
              "\n",
              "// Listen for the clearing of the current output cell\n",
              "var outputEl = gd.closest('.output');\n",
              "if (outputEl) {{\n",
              "    x.observe(outputEl, {childList: true});\n",
              "}}\n",
              "\n",
              "                        })                };                            </script>        </div>\n",
              "</body>\n",
              "</html>"
            ]
          },
          "metadata": {}
        }
      ]
    },
    {
      "cell_type": "markdown",
      "source": [
        "*The Philippines almost experience the same number of earthquakes yearly except in the year 2018. The oldest available record in PHIVOLCS is only up to 2018. The majority of earthquakes recorded are around magnitude 2~2.5, categorized as minor earthquakes.*"
      ],
      "metadata": {
        "id": "WewsLlHtCwAb"
      }
    },
    {
      "cell_type": "code",
      "source": [
        "#Line graph for monthly earthquake occurence\n",
        "df_year_mon = df_eq.groupby(['Year','Month'],as_index=False).agg(Frequency=('Mag','count'))\n",
        "df_year_mon.sort_values(by=['Year'])\n",
        "\n",
        "fig_line02 = px.line(data_frame=df_year_mon, x=\"Month\", y=\"Frequency\", color =\"Year\", title=\"Monthly Earthquake Occurrence\")\n",
        "fig_line02.show()"
      ],
      "metadata": {
        "colab": {
          "base_uri": "https://localhost:8080/",
          "height": 542
        },
        "id": "r0YISjDkiGNt",
        "outputId": "58b3b5fd-5818-4313-ce92-12899cff4d7b"
      },
      "execution_count": null,
      "outputs": [
        {
          "output_type": "display_data",
          "data": {
            "text/html": [
              "<html>\n",
              "<head><meta charset=\"utf-8\" /></head>\n",
              "<body>\n",
              "    <div>            <script src=\"https://cdnjs.cloudflare.com/ajax/libs/mathjax/2.7.5/MathJax.js?config=TeX-AMS-MML_SVG\"></script><script type=\"text/javascript\">if (window.MathJax) {MathJax.Hub.Config({SVG: {font: \"STIX-Web\"}});}</script>                <script type=\"text/javascript\">window.PlotlyConfig = {MathJaxConfig: 'local'};</script>\n",
              "        <script src=\"https://cdn.plot.ly/plotly-2.8.3.min.js\"></script>                <div id=\"16a7b985-59d3-498d-9d12-9e5e703dc28d\" class=\"plotly-graph-div\" style=\"height:525px; width:100%;\"></div>            <script type=\"text/javascript\">                                    window.PLOTLYENV=window.PLOTLYENV || {};                                    if (document.getElementById(\"16a7b985-59d3-498d-9d12-9e5e703dc28d\")) {                    Plotly.newPlot(                        \"16a7b985-59d3-498d-9d12-9e5e703dc28d\",                        [{\"hovertemplate\":\"Year=2018<br>Month=%{x}<br>Frequency=%{y}<extra></extra>\",\"legendgroup\":\"2018\",\"line\":{\"color\":\"#636efa\",\"dash\":\"solid\"},\"marker\":{\"symbol\":\"circle\"},\"mode\":\"lines\",\"name\":\"2018\",\"orientation\":\"v\",\"showlegend\":true,\"x\":[\"01\",\"02\",\"03\",\"04\",\"05\",\"06\",\"07\",\"08\",\"09\",\"10\",\"11\",\"12\"],\"xaxis\":\"x\",\"y\":[374,366,368,466,598,539,507,529,581,706,659,560],\"yaxis\":\"y\",\"type\":\"scatter\"},{\"hovertemplate\":\"Year=2019<br>Month=%{x}<br>Frequency=%{y}<extra></extra>\",\"legendgroup\":\"2019\",\"line\":{\"color\":\"#EF553B\",\"dash\":\"solid\"},\"marker\":{\"symbol\":\"circle\"},\"mode\":\"lines\",\"name\":\"2019\",\"orientation\":\"v\",\"showlegend\":true,\"x\":[\"01\",\"02\",\"03\",\"04\",\"05\",\"06\",\"07\",\"08\",\"09\",\"10\",\"11\",\"12\"],\"xaxis\":\"x\",\"y\":[621,929,884,1257,979,784,859,545,897,1815,1785,1635],\"yaxis\":\"y\",\"type\":\"scatter\"},{\"hovertemplate\":\"Year=2020<br>Month=%{x}<br>Frequency=%{y}<extra></extra>\",\"legendgroup\":\"2020\",\"line\":{\"color\":\"#00cc96\",\"dash\":\"solid\"},\"marker\":{\"symbol\":\"circle\"},\"mode\":\"lines\",\"name\":\"2020\",\"orientation\":\"v\",\"showlegend\":true,\"x\":[\"01\",\"02\",\"03\",\"04\",\"05\",\"06\",\"07\",\"08\",\"09\",\"10\",\"11\",\"12\"],\"xaxis\":\"x\",\"y\":[1746,862,1114,1345,1306,1249,1093,1291,1063,1139,881,997],\"yaxis\":\"y\",\"type\":\"scatter\"},{\"hovertemplate\":\"Year=2021<br>Month=%{x}<br>Frequency=%{y}<extra></extra>\",\"legendgroup\":\"2021\",\"line\":{\"color\":\"#ab63fa\",\"dash\":\"solid\"},\"marker\":{\"symbol\":\"circle\"},\"mode\":\"lines\",\"name\":\"2021\",\"orientation\":\"v\",\"showlegend\":true,\"x\":[\"01\",\"02\",\"03\",\"04\",\"05\",\"06\",\"07\",\"08\",\"09\",\"10\",\"11\",\"12\"],\"xaxis\":\"x\",\"y\":[783,826,818,838,933,1580,1099,1339,998,1147,960,745],\"yaxis\":\"y\",\"type\":\"scatter\"},{\"hovertemplate\":\"Year=2022<br>Month=%{x}<br>Frequency=%{y}<extra></extra>\",\"legendgroup\":\"2022\",\"line\":{\"color\":\"#FFA15A\",\"dash\":\"solid\"},\"marker\":{\"symbol\":\"circle\"},\"mode\":\"lines\",\"name\":\"2022\",\"orientation\":\"v\",\"showlegend\":true,\"x\":[\"01\",\"02\",\"03\",\"04\",\"05\",\"06\",\"07\",\"08\",\"09\",\"10\",\"11\",\"12\"],\"xaxis\":\"x\",\"y\":[787,638,1428,1152,1048,1043,1799,1912,1117,1355,1177,871],\"yaxis\":\"y\",\"type\":\"scatter\"}],                        {\"template\":{\"data\":{\"bar\":[{\"error_x\":{\"color\":\"#2a3f5f\"},\"error_y\":{\"color\":\"#2a3f5f\"},\"marker\":{\"line\":{\"color\":\"#E5ECF6\",\"width\":0.5},\"pattern\":{\"fillmode\":\"overlay\",\"size\":10,\"solidity\":0.2}},\"type\":\"bar\"}],\"barpolar\":[{\"marker\":{\"line\":{\"color\":\"#E5ECF6\",\"width\":0.5},\"pattern\":{\"fillmode\":\"overlay\",\"size\":10,\"solidity\":0.2}},\"type\":\"barpolar\"}],\"carpet\":[{\"aaxis\":{\"endlinecolor\":\"#2a3f5f\",\"gridcolor\":\"white\",\"linecolor\":\"white\",\"minorgridcolor\":\"white\",\"startlinecolor\":\"#2a3f5f\"},\"baxis\":{\"endlinecolor\":\"#2a3f5f\",\"gridcolor\":\"white\",\"linecolor\":\"white\",\"minorgridcolor\":\"white\",\"startlinecolor\":\"#2a3f5f\"},\"type\":\"carpet\"}],\"choropleth\":[{\"colorbar\":{\"outlinewidth\":0,\"ticks\":\"\"},\"type\":\"choropleth\"}],\"contour\":[{\"colorbar\":{\"outlinewidth\":0,\"ticks\":\"\"},\"colorscale\":[[0.0,\"#0d0887\"],[0.1111111111111111,\"#46039f\"],[0.2222222222222222,\"#7201a8\"],[0.3333333333333333,\"#9c179e\"],[0.4444444444444444,\"#bd3786\"],[0.5555555555555556,\"#d8576b\"],[0.6666666666666666,\"#ed7953\"],[0.7777777777777778,\"#fb9f3a\"],[0.8888888888888888,\"#fdca26\"],[1.0,\"#f0f921\"]],\"type\":\"contour\"}],\"contourcarpet\":[{\"colorbar\":{\"outlinewidth\":0,\"ticks\":\"\"},\"type\":\"contourcarpet\"}],\"heatmap\":[{\"colorbar\":{\"outlinewidth\":0,\"ticks\":\"\"},\"colorscale\":[[0.0,\"#0d0887\"],[0.1111111111111111,\"#46039f\"],[0.2222222222222222,\"#7201a8\"],[0.3333333333333333,\"#9c179e\"],[0.4444444444444444,\"#bd3786\"],[0.5555555555555556,\"#d8576b\"],[0.6666666666666666,\"#ed7953\"],[0.7777777777777778,\"#fb9f3a\"],[0.8888888888888888,\"#fdca26\"],[1.0,\"#f0f921\"]],\"type\":\"heatmap\"}],\"heatmapgl\":[{\"colorbar\":{\"outlinewidth\":0,\"ticks\":\"\"},\"colorscale\":[[0.0,\"#0d0887\"],[0.1111111111111111,\"#46039f\"],[0.2222222222222222,\"#7201a8\"],[0.3333333333333333,\"#9c179e\"],[0.4444444444444444,\"#bd3786\"],[0.5555555555555556,\"#d8576b\"],[0.6666666666666666,\"#ed7953\"],[0.7777777777777778,\"#fb9f3a\"],[0.8888888888888888,\"#fdca26\"],[1.0,\"#f0f921\"]],\"type\":\"heatmapgl\"}],\"histogram\":[{\"marker\":{\"pattern\":{\"fillmode\":\"overlay\",\"size\":10,\"solidity\":0.2}},\"type\":\"histogram\"}],\"histogram2d\":[{\"colorbar\":{\"outlinewidth\":0,\"ticks\":\"\"},\"colorscale\":[[0.0,\"#0d0887\"],[0.1111111111111111,\"#46039f\"],[0.2222222222222222,\"#7201a8\"],[0.3333333333333333,\"#9c179e\"],[0.4444444444444444,\"#bd3786\"],[0.5555555555555556,\"#d8576b\"],[0.6666666666666666,\"#ed7953\"],[0.7777777777777778,\"#fb9f3a\"],[0.8888888888888888,\"#fdca26\"],[1.0,\"#f0f921\"]],\"type\":\"histogram2d\"}],\"histogram2dcontour\":[{\"colorbar\":{\"outlinewidth\":0,\"ticks\":\"\"},\"colorscale\":[[0.0,\"#0d0887\"],[0.1111111111111111,\"#46039f\"],[0.2222222222222222,\"#7201a8\"],[0.3333333333333333,\"#9c179e\"],[0.4444444444444444,\"#bd3786\"],[0.5555555555555556,\"#d8576b\"],[0.6666666666666666,\"#ed7953\"],[0.7777777777777778,\"#fb9f3a\"],[0.8888888888888888,\"#fdca26\"],[1.0,\"#f0f921\"]],\"type\":\"histogram2dcontour\"}],\"mesh3d\":[{\"colorbar\":{\"outlinewidth\":0,\"ticks\":\"\"},\"type\":\"mesh3d\"}],\"parcoords\":[{\"line\":{\"colorbar\":{\"outlinewidth\":0,\"ticks\":\"\"}},\"type\":\"parcoords\"}],\"pie\":[{\"automargin\":true,\"type\":\"pie\"}],\"scatter\":[{\"marker\":{\"colorbar\":{\"outlinewidth\":0,\"ticks\":\"\"}},\"type\":\"scatter\"}],\"scatter3d\":[{\"line\":{\"colorbar\":{\"outlinewidth\":0,\"ticks\":\"\"}},\"marker\":{\"colorbar\":{\"outlinewidth\":0,\"ticks\":\"\"}},\"type\":\"scatter3d\"}],\"scattercarpet\":[{\"marker\":{\"colorbar\":{\"outlinewidth\":0,\"ticks\":\"\"}},\"type\":\"scattercarpet\"}],\"scattergeo\":[{\"marker\":{\"colorbar\":{\"outlinewidth\":0,\"ticks\":\"\"}},\"type\":\"scattergeo\"}],\"scattergl\":[{\"marker\":{\"colorbar\":{\"outlinewidth\":0,\"ticks\":\"\"}},\"type\":\"scattergl\"}],\"scattermapbox\":[{\"marker\":{\"colorbar\":{\"outlinewidth\":0,\"ticks\":\"\"}},\"type\":\"scattermapbox\"}],\"scatterpolar\":[{\"marker\":{\"colorbar\":{\"outlinewidth\":0,\"ticks\":\"\"}},\"type\":\"scatterpolar\"}],\"scatterpolargl\":[{\"marker\":{\"colorbar\":{\"outlinewidth\":0,\"ticks\":\"\"}},\"type\":\"scatterpolargl\"}],\"scatterternary\":[{\"marker\":{\"colorbar\":{\"outlinewidth\":0,\"ticks\":\"\"}},\"type\":\"scatterternary\"}],\"surface\":[{\"colorbar\":{\"outlinewidth\":0,\"ticks\":\"\"},\"colorscale\":[[0.0,\"#0d0887\"],[0.1111111111111111,\"#46039f\"],[0.2222222222222222,\"#7201a8\"],[0.3333333333333333,\"#9c179e\"],[0.4444444444444444,\"#bd3786\"],[0.5555555555555556,\"#d8576b\"],[0.6666666666666666,\"#ed7953\"],[0.7777777777777778,\"#fb9f3a\"],[0.8888888888888888,\"#fdca26\"],[1.0,\"#f0f921\"]],\"type\":\"surface\"}],\"table\":[{\"cells\":{\"fill\":{\"color\":\"#EBF0F8\"},\"line\":{\"color\":\"white\"}},\"header\":{\"fill\":{\"color\":\"#C8D4E3\"},\"line\":{\"color\":\"white\"}},\"type\":\"table\"}]},\"layout\":{\"annotationdefaults\":{\"arrowcolor\":\"#2a3f5f\",\"arrowhead\":0,\"arrowwidth\":1},\"autotypenumbers\":\"strict\",\"coloraxis\":{\"colorbar\":{\"outlinewidth\":0,\"ticks\":\"\"}},\"colorscale\":{\"diverging\":[[0,\"#8e0152\"],[0.1,\"#c51b7d\"],[0.2,\"#de77ae\"],[0.3,\"#f1b6da\"],[0.4,\"#fde0ef\"],[0.5,\"#f7f7f7\"],[0.6,\"#e6f5d0\"],[0.7,\"#b8e186\"],[0.8,\"#7fbc41\"],[0.9,\"#4d9221\"],[1,\"#276419\"]],\"sequential\":[[0.0,\"#0d0887\"],[0.1111111111111111,\"#46039f\"],[0.2222222222222222,\"#7201a8\"],[0.3333333333333333,\"#9c179e\"],[0.4444444444444444,\"#bd3786\"],[0.5555555555555556,\"#d8576b\"],[0.6666666666666666,\"#ed7953\"],[0.7777777777777778,\"#fb9f3a\"],[0.8888888888888888,\"#fdca26\"],[1.0,\"#f0f921\"]],\"sequentialminus\":[[0.0,\"#0d0887\"],[0.1111111111111111,\"#46039f\"],[0.2222222222222222,\"#7201a8\"],[0.3333333333333333,\"#9c179e\"],[0.4444444444444444,\"#bd3786\"],[0.5555555555555556,\"#d8576b\"],[0.6666666666666666,\"#ed7953\"],[0.7777777777777778,\"#fb9f3a\"],[0.8888888888888888,\"#fdca26\"],[1.0,\"#f0f921\"]]},\"colorway\":[\"#636efa\",\"#EF553B\",\"#00cc96\",\"#ab63fa\",\"#FFA15A\",\"#19d3f3\",\"#FF6692\",\"#B6E880\",\"#FF97FF\",\"#FECB52\"],\"font\":{\"color\":\"#2a3f5f\"},\"geo\":{\"bgcolor\":\"white\",\"lakecolor\":\"white\",\"landcolor\":\"#E5ECF6\",\"showlakes\":true,\"showland\":true,\"subunitcolor\":\"white\"},\"hoverlabel\":{\"align\":\"left\"},\"hovermode\":\"closest\",\"mapbox\":{\"style\":\"light\"},\"paper_bgcolor\":\"white\",\"plot_bgcolor\":\"#E5ECF6\",\"polar\":{\"angularaxis\":{\"gridcolor\":\"white\",\"linecolor\":\"white\",\"ticks\":\"\"},\"bgcolor\":\"#E5ECF6\",\"radialaxis\":{\"gridcolor\":\"white\",\"linecolor\":\"white\",\"ticks\":\"\"}},\"scene\":{\"xaxis\":{\"backgroundcolor\":\"#E5ECF6\",\"gridcolor\":\"white\",\"gridwidth\":2,\"linecolor\":\"white\",\"showbackground\":true,\"ticks\":\"\",\"zerolinecolor\":\"white\"},\"yaxis\":{\"backgroundcolor\":\"#E5ECF6\",\"gridcolor\":\"white\",\"gridwidth\":2,\"linecolor\":\"white\",\"showbackground\":true,\"ticks\":\"\",\"zerolinecolor\":\"white\"},\"zaxis\":{\"backgroundcolor\":\"#E5ECF6\",\"gridcolor\":\"white\",\"gridwidth\":2,\"linecolor\":\"white\",\"showbackground\":true,\"ticks\":\"\",\"zerolinecolor\":\"white\"}},\"shapedefaults\":{\"line\":{\"color\":\"#2a3f5f\"}},\"ternary\":{\"aaxis\":{\"gridcolor\":\"white\",\"linecolor\":\"white\",\"ticks\":\"\"},\"baxis\":{\"gridcolor\":\"white\",\"linecolor\":\"white\",\"ticks\":\"\"},\"bgcolor\":\"#E5ECF6\",\"caxis\":{\"gridcolor\":\"white\",\"linecolor\":\"white\",\"ticks\":\"\"}},\"title\":{\"x\":0.05},\"xaxis\":{\"automargin\":true,\"gridcolor\":\"white\",\"linecolor\":\"white\",\"ticks\":\"\",\"title\":{\"standoff\":15},\"zerolinecolor\":\"white\",\"zerolinewidth\":2},\"yaxis\":{\"automargin\":true,\"gridcolor\":\"white\",\"linecolor\":\"white\",\"ticks\":\"\",\"title\":{\"standoff\":15},\"zerolinecolor\":\"white\",\"zerolinewidth\":2}}},\"xaxis\":{\"anchor\":\"y\",\"domain\":[0.0,1.0],\"title\":{\"text\":\"Month\"}},\"yaxis\":{\"anchor\":\"x\",\"domain\":[0.0,1.0],\"title\":{\"text\":\"Frequency\"}},\"legend\":{\"title\":{\"text\":\"Year\"},\"tracegroupgap\":0},\"title\":{\"text\":\"Monthly Earthquake Occurrence\"}},                        {\"responsive\": true}                    ).then(function(){\n",
              "                            \n",
              "var gd = document.getElementById('16a7b985-59d3-498d-9d12-9e5e703dc28d');\n",
              "var x = new MutationObserver(function (mutations, observer) {{\n",
              "        var display = window.getComputedStyle(gd).display;\n",
              "        if (!display || display === 'none') {{\n",
              "            console.log([gd, 'removed!']);\n",
              "            Plotly.purge(gd);\n",
              "            observer.disconnect();\n",
              "        }}\n",
              "}});\n",
              "\n",
              "// Listen for the removal of the full notebook cells\n",
              "var notebookContainer = gd.closest('#notebook-container');\n",
              "if (notebookContainer) {{\n",
              "    x.observe(notebookContainer, {childList: true});\n",
              "}}\n",
              "\n",
              "// Listen for the clearing of the current output cell\n",
              "var outputEl = gd.closest('.output');\n",
              "if (outputEl) {{\n",
              "    x.observe(outputEl, {childList: true});\n",
              "}}\n",
              "\n",
              "                        })                };                            </script>        </div>\n",
              "</body>\n",
              "</html>"
            ]
          },
          "metadata": {}
        }
      ]
    },
    {
      "cell_type": "markdown",
      "source": [
        "*No common month with a high or low occurrence of an earthquake*"
      ],
      "metadata": {
        "id": "bAZGTrPjjWcW"
      }
    },
    {
      "cell_type": "code",
      "source": [
        "#Bar graph for earthquake based on focal depth\n",
        "df_yearmonth_depth = df_eq.groupby(['Year_month', 'Cat_depth'],as_index=False).agg(count=('Mag','count'))\n",
        "df_yearmonth_depth.sort_values(by=['Year_month'])\n",
        "\n",
        "fig_bar01 = px.bar(data_frame=df_yearmonth_depth, x=\"Year_month\", y=\"count\", color=\"Cat_depth\", title=\"Earthquake based on Focal Depth\")\n",
        "fig_bar01.update_layout(xaxis_title ='Year & Month',legend_title_text='Category by focal depth')\n",
        "fig_bar01.show()"
      ],
      "metadata": {
        "id": "7LivV4m9QN55",
        "colab": {
          "base_uri": "https://localhost:8080/",
          "height": 542
        },
        "outputId": "1acc82c3-51e2-4b25-e2c8-ec9135a5263a"
      },
      "execution_count": null,
      "outputs": [
        {
          "output_type": "display_data",
          "data": {
            "text/html": [
              "<html>\n",
              "<head><meta charset=\"utf-8\" /></head>\n",
              "<body>\n",
              "    <div>            <script src=\"https://cdnjs.cloudflare.com/ajax/libs/mathjax/2.7.5/MathJax.js?config=TeX-AMS-MML_SVG\"></script><script type=\"text/javascript\">if (window.MathJax) {MathJax.Hub.Config({SVG: {font: \"STIX-Web\"}});}</script>                <script type=\"text/javascript\">window.PlotlyConfig = {MathJaxConfig: 'local'};</script>\n",
              "        <script src=\"https://cdn.plot.ly/plotly-2.8.3.min.js\"></script>                <div id=\"f33163a6-ba4e-434e-8db8-fe7f77892f5d\" class=\"plotly-graph-div\" style=\"height:525px; width:100%;\"></div>            <script type=\"text/javascript\">                                    window.PLOTLYENV=window.PLOTLYENV || {};                                    if (document.getElementById(\"f33163a6-ba4e-434e-8db8-fe7f77892f5d\")) {                    Plotly.newPlot(                        \"f33163a6-ba4e-434e-8db8-fe7f77892f5d\",                        [{\"alignmentgroup\":\"True\",\"hovertemplate\":\"Cat_depth=Intermediate<br>Year_month=%{x}<br>count=%{y}<extra></extra>\",\"legendgroup\":\"Intermediate\",\"marker\":{\"color\":\"#636efa\",\"pattern\":{\"shape\":\"\"}},\"name\":\"Intermediate\",\"offsetgroup\":\"Intermediate\",\"orientation\":\"v\",\"showlegend\":true,\"textposition\":\"auto\",\"x\":[\"2018-01\",\"2018-02\",\"2018-03\",\"2018-04\",\"2018-05\",\"2018-06\",\"2018-07\",\"2018-08\",\"2018-09\",\"2018-10\",\"2018-11\",\"2018-12\",\"2019-01\",\"2019-02\",\"2019-03\",\"2019-04\",\"2019-05\",\"2019-06\",\"2019-07\",\"2019-08\",\"2019-09\",\"2019-10\",\"2019-11\",\"2019-12\",\"2020-01\",\"2020-02\",\"2020-03\",\"2020-04\",\"2020-05\",\"2020-06\",\"2020-07\",\"2020-08\",\"2020-09\",\"2020-10\",\"2020-11\",\"2020-12\",\"2021-01\",\"2021-02\",\"2021-03\",\"2021-04\",\"2021-05\",\"2021-06\",\"2021-07\",\"2021-08\",\"2021-09\",\"2021-10\",\"2021-11\",\"2021-12\",\"2022-01\",\"2022-02\",\"2022-03\",\"2022-04\",\"2022-05\",\"2022-06\",\"2022-07\",\"2022-08\",\"2022-09\",\"2022-10\",\"2022-11\",\"2022-12\"],\"xaxis\":\"x\",\"y\":[45,59,43,74,78,69,78,80,79,116,90,89,81,47,74,85,113,92,90,70,108,123,82,80,82,82,147,195,152,186,165,126,136,120,115,150,126,87,83,81,111,132,242,244,173,151,115,118,117,99,124,126,186,109,129,147,103,120,139,117],\"yaxis\":\"y\",\"type\":\"bar\"},{\"alignmentgroup\":\"True\",\"hovertemplate\":\"Cat_depth=Shallow<br>Year_month=%{x}<br>count=%{y}<extra></extra>\",\"legendgroup\":\"Shallow\",\"marker\":{\"color\":\"#EF553B\",\"pattern\":{\"shape\":\"\"}},\"name\":\"Shallow\",\"offsetgroup\":\"Shallow\",\"orientation\":\"v\",\"showlegend\":true,\"textposition\":\"auto\",\"x\":[\"2018-01\",\"2018-02\",\"2018-03\",\"2018-04\",\"2018-05\",\"2018-06\",\"2018-07\",\"2018-08\",\"2018-09\",\"2018-10\",\"2018-11\",\"2018-12\",\"2019-01\",\"2019-02\",\"2019-03\",\"2019-04\",\"2019-05\",\"2019-06\",\"2019-07\",\"2019-08\",\"2019-09\",\"2019-10\",\"2019-11\",\"2019-12\",\"2020-01\",\"2020-02\",\"2020-03\",\"2020-04\",\"2020-05\",\"2020-06\",\"2020-07\",\"2020-08\",\"2020-09\",\"2020-10\",\"2020-11\",\"2020-12\",\"2021-01\",\"2021-02\",\"2021-03\",\"2021-04\",\"2021-05\",\"2021-06\",\"2021-07\",\"2021-08\",\"2021-09\",\"2021-10\",\"2021-11\",\"2021-12\",\"2022-01\",\"2022-02\",\"2022-03\",\"2022-04\",\"2022-05\",\"2022-06\",\"2022-07\",\"2022-08\",\"2022-09\",\"2022-10\",\"2022-11\",\"2022-12\"],\"xaxis\":\"x\",\"y\":[329,306,322,392,513,468,427,448,499,588,568,468,540,882,810,1172,864,690,767,474,786,1692,1701,1552,1663,779,966,1149,1153,1058,925,1159,926,1018,765,844,655,739,733,755,820,1447,853,1093,823,994,843,625,669,539,1302,1026,861,933,1670,1763,1014,1235,1037,754],\"yaxis\":\"y\",\"type\":\"bar\"},{\"alignmentgroup\":\"True\",\"hovertemplate\":\"Cat_depth=Deep<br>Year_month=%{x}<br>count=%{y}<extra></extra>\",\"legendgroup\":\"Deep\",\"marker\":{\"color\":\"#00cc96\",\"pattern\":{\"shape\":\"\"}},\"name\":\"Deep\",\"offsetgroup\":\"Deep\",\"orientation\":\"v\",\"showlegend\":true,\"textposition\":\"auto\",\"x\":[\"2018-02\",\"2018-03\",\"2018-05\",\"2018-06\",\"2018-07\",\"2018-08\",\"2018-09\",\"2018-10\",\"2018-11\",\"2018-12\",\"2019-05\",\"2019-06\",\"2019-07\",\"2019-08\",\"2019-09\",\"2019-11\",\"2019-12\",\"2020-01\",\"2020-02\",\"2020-03\",\"2020-04\",\"2020-05\",\"2020-06\",\"2020-07\",\"2020-08\",\"2020-09\",\"2020-10\",\"2020-11\",\"2020-12\",\"2021-01\",\"2021-03\",\"2021-04\",\"2021-05\",\"2021-06\",\"2021-07\",\"2021-08\",\"2021-09\",\"2021-10\",\"2021-11\",\"2021-12\",\"2022-01\",\"2022-03\",\"2022-05\",\"2022-06\",\"2022-08\",\"2022-11\"],\"xaxis\":\"x\",\"y\":[1,3,7,2,2,1,3,2,1,3,2,2,2,1,3,2,3,1,1,1,1,1,5,3,6,1,1,1,3,2,2,2,2,1,4,2,2,2,2,2,1,2,1,1,2,1],\"yaxis\":\"y\",\"type\":\"bar\"}],                        {\"template\":{\"data\":{\"bar\":[{\"error_x\":{\"color\":\"#2a3f5f\"},\"error_y\":{\"color\":\"#2a3f5f\"},\"marker\":{\"line\":{\"color\":\"#E5ECF6\",\"width\":0.5},\"pattern\":{\"fillmode\":\"overlay\",\"size\":10,\"solidity\":0.2}},\"type\":\"bar\"}],\"barpolar\":[{\"marker\":{\"line\":{\"color\":\"#E5ECF6\",\"width\":0.5},\"pattern\":{\"fillmode\":\"overlay\",\"size\":10,\"solidity\":0.2}},\"type\":\"barpolar\"}],\"carpet\":[{\"aaxis\":{\"endlinecolor\":\"#2a3f5f\",\"gridcolor\":\"white\",\"linecolor\":\"white\",\"minorgridcolor\":\"white\",\"startlinecolor\":\"#2a3f5f\"},\"baxis\":{\"endlinecolor\":\"#2a3f5f\",\"gridcolor\":\"white\",\"linecolor\":\"white\",\"minorgridcolor\":\"white\",\"startlinecolor\":\"#2a3f5f\"},\"type\":\"carpet\"}],\"choropleth\":[{\"colorbar\":{\"outlinewidth\":0,\"ticks\":\"\"},\"type\":\"choropleth\"}],\"contour\":[{\"colorbar\":{\"outlinewidth\":0,\"ticks\":\"\"},\"colorscale\":[[0.0,\"#0d0887\"],[0.1111111111111111,\"#46039f\"],[0.2222222222222222,\"#7201a8\"],[0.3333333333333333,\"#9c179e\"],[0.4444444444444444,\"#bd3786\"],[0.5555555555555556,\"#d8576b\"],[0.6666666666666666,\"#ed7953\"],[0.7777777777777778,\"#fb9f3a\"],[0.8888888888888888,\"#fdca26\"],[1.0,\"#f0f921\"]],\"type\":\"contour\"}],\"contourcarpet\":[{\"colorbar\":{\"outlinewidth\":0,\"ticks\":\"\"},\"type\":\"contourcarpet\"}],\"heatmap\":[{\"colorbar\":{\"outlinewidth\":0,\"ticks\":\"\"},\"colorscale\":[[0.0,\"#0d0887\"],[0.1111111111111111,\"#46039f\"],[0.2222222222222222,\"#7201a8\"],[0.3333333333333333,\"#9c179e\"],[0.4444444444444444,\"#bd3786\"],[0.5555555555555556,\"#d8576b\"],[0.6666666666666666,\"#ed7953\"],[0.7777777777777778,\"#fb9f3a\"],[0.8888888888888888,\"#fdca26\"],[1.0,\"#f0f921\"]],\"type\":\"heatmap\"}],\"heatmapgl\":[{\"colorbar\":{\"outlinewidth\":0,\"ticks\":\"\"},\"colorscale\":[[0.0,\"#0d0887\"],[0.1111111111111111,\"#46039f\"],[0.2222222222222222,\"#7201a8\"],[0.3333333333333333,\"#9c179e\"],[0.4444444444444444,\"#bd3786\"],[0.5555555555555556,\"#d8576b\"],[0.6666666666666666,\"#ed7953\"],[0.7777777777777778,\"#fb9f3a\"],[0.8888888888888888,\"#fdca26\"],[1.0,\"#f0f921\"]],\"type\":\"heatmapgl\"}],\"histogram\":[{\"marker\":{\"pattern\":{\"fillmode\":\"overlay\",\"size\":10,\"solidity\":0.2}},\"type\":\"histogram\"}],\"histogram2d\":[{\"colorbar\":{\"outlinewidth\":0,\"ticks\":\"\"},\"colorscale\":[[0.0,\"#0d0887\"],[0.1111111111111111,\"#46039f\"],[0.2222222222222222,\"#7201a8\"],[0.3333333333333333,\"#9c179e\"],[0.4444444444444444,\"#bd3786\"],[0.5555555555555556,\"#d8576b\"],[0.6666666666666666,\"#ed7953\"],[0.7777777777777778,\"#fb9f3a\"],[0.8888888888888888,\"#fdca26\"],[1.0,\"#f0f921\"]],\"type\":\"histogram2d\"}],\"histogram2dcontour\":[{\"colorbar\":{\"outlinewidth\":0,\"ticks\":\"\"},\"colorscale\":[[0.0,\"#0d0887\"],[0.1111111111111111,\"#46039f\"],[0.2222222222222222,\"#7201a8\"],[0.3333333333333333,\"#9c179e\"],[0.4444444444444444,\"#bd3786\"],[0.5555555555555556,\"#d8576b\"],[0.6666666666666666,\"#ed7953\"],[0.7777777777777778,\"#fb9f3a\"],[0.8888888888888888,\"#fdca26\"],[1.0,\"#f0f921\"]],\"type\":\"histogram2dcontour\"}],\"mesh3d\":[{\"colorbar\":{\"outlinewidth\":0,\"ticks\":\"\"},\"type\":\"mesh3d\"}],\"parcoords\":[{\"line\":{\"colorbar\":{\"outlinewidth\":0,\"ticks\":\"\"}},\"type\":\"parcoords\"}],\"pie\":[{\"automargin\":true,\"type\":\"pie\"}],\"scatter\":[{\"marker\":{\"colorbar\":{\"outlinewidth\":0,\"ticks\":\"\"}},\"type\":\"scatter\"}],\"scatter3d\":[{\"line\":{\"colorbar\":{\"outlinewidth\":0,\"ticks\":\"\"}},\"marker\":{\"colorbar\":{\"outlinewidth\":0,\"ticks\":\"\"}},\"type\":\"scatter3d\"}],\"scattercarpet\":[{\"marker\":{\"colorbar\":{\"outlinewidth\":0,\"ticks\":\"\"}},\"type\":\"scattercarpet\"}],\"scattergeo\":[{\"marker\":{\"colorbar\":{\"outlinewidth\":0,\"ticks\":\"\"}},\"type\":\"scattergeo\"}],\"scattergl\":[{\"marker\":{\"colorbar\":{\"outlinewidth\":0,\"ticks\":\"\"}},\"type\":\"scattergl\"}],\"scattermapbox\":[{\"marker\":{\"colorbar\":{\"outlinewidth\":0,\"ticks\":\"\"}},\"type\":\"scattermapbox\"}],\"scatterpolar\":[{\"marker\":{\"colorbar\":{\"outlinewidth\":0,\"ticks\":\"\"}},\"type\":\"scatterpolar\"}],\"scatterpolargl\":[{\"marker\":{\"colorbar\":{\"outlinewidth\":0,\"ticks\":\"\"}},\"type\":\"scatterpolargl\"}],\"scatterternary\":[{\"marker\":{\"colorbar\":{\"outlinewidth\":0,\"ticks\":\"\"}},\"type\":\"scatterternary\"}],\"surface\":[{\"colorbar\":{\"outlinewidth\":0,\"ticks\":\"\"},\"colorscale\":[[0.0,\"#0d0887\"],[0.1111111111111111,\"#46039f\"],[0.2222222222222222,\"#7201a8\"],[0.3333333333333333,\"#9c179e\"],[0.4444444444444444,\"#bd3786\"],[0.5555555555555556,\"#d8576b\"],[0.6666666666666666,\"#ed7953\"],[0.7777777777777778,\"#fb9f3a\"],[0.8888888888888888,\"#fdca26\"],[1.0,\"#f0f921\"]],\"type\":\"surface\"}],\"table\":[{\"cells\":{\"fill\":{\"color\":\"#EBF0F8\"},\"line\":{\"color\":\"white\"}},\"header\":{\"fill\":{\"color\":\"#C8D4E3\"},\"line\":{\"color\":\"white\"}},\"type\":\"table\"}]},\"layout\":{\"annotationdefaults\":{\"arrowcolor\":\"#2a3f5f\",\"arrowhead\":0,\"arrowwidth\":1},\"autotypenumbers\":\"strict\",\"coloraxis\":{\"colorbar\":{\"outlinewidth\":0,\"ticks\":\"\"}},\"colorscale\":{\"diverging\":[[0,\"#8e0152\"],[0.1,\"#c51b7d\"],[0.2,\"#de77ae\"],[0.3,\"#f1b6da\"],[0.4,\"#fde0ef\"],[0.5,\"#f7f7f7\"],[0.6,\"#e6f5d0\"],[0.7,\"#b8e186\"],[0.8,\"#7fbc41\"],[0.9,\"#4d9221\"],[1,\"#276419\"]],\"sequential\":[[0.0,\"#0d0887\"],[0.1111111111111111,\"#46039f\"],[0.2222222222222222,\"#7201a8\"],[0.3333333333333333,\"#9c179e\"],[0.4444444444444444,\"#bd3786\"],[0.5555555555555556,\"#d8576b\"],[0.6666666666666666,\"#ed7953\"],[0.7777777777777778,\"#fb9f3a\"],[0.8888888888888888,\"#fdca26\"],[1.0,\"#f0f921\"]],\"sequentialminus\":[[0.0,\"#0d0887\"],[0.1111111111111111,\"#46039f\"],[0.2222222222222222,\"#7201a8\"],[0.3333333333333333,\"#9c179e\"],[0.4444444444444444,\"#bd3786\"],[0.5555555555555556,\"#d8576b\"],[0.6666666666666666,\"#ed7953\"],[0.7777777777777778,\"#fb9f3a\"],[0.8888888888888888,\"#fdca26\"],[1.0,\"#f0f921\"]]},\"colorway\":[\"#636efa\",\"#EF553B\",\"#00cc96\",\"#ab63fa\",\"#FFA15A\",\"#19d3f3\",\"#FF6692\",\"#B6E880\",\"#FF97FF\",\"#FECB52\"],\"font\":{\"color\":\"#2a3f5f\"},\"geo\":{\"bgcolor\":\"white\",\"lakecolor\":\"white\",\"landcolor\":\"#E5ECF6\",\"showlakes\":true,\"showland\":true,\"subunitcolor\":\"white\"},\"hoverlabel\":{\"align\":\"left\"},\"hovermode\":\"closest\",\"mapbox\":{\"style\":\"light\"},\"paper_bgcolor\":\"white\",\"plot_bgcolor\":\"#E5ECF6\",\"polar\":{\"angularaxis\":{\"gridcolor\":\"white\",\"linecolor\":\"white\",\"ticks\":\"\"},\"bgcolor\":\"#E5ECF6\",\"radialaxis\":{\"gridcolor\":\"white\",\"linecolor\":\"white\",\"ticks\":\"\"}},\"scene\":{\"xaxis\":{\"backgroundcolor\":\"#E5ECF6\",\"gridcolor\":\"white\",\"gridwidth\":2,\"linecolor\":\"white\",\"showbackground\":true,\"ticks\":\"\",\"zerolinecolor\":\"white\"},\"yaxis\":{\"backgroundcolor\":\"#E5ECF6\",\"gridcolor\":\"white\",\"gridwidth\":2,\"linecolor\":\"white\",\"showbackground\":true,\"ticks\":\"\",\"zerolinecolor\":\"white\"},\"zaxis\":{\"backgroundcolor\":\"#E5ECF6\",\"gridcolor\":\"white\",\"gridwidth\":2,\"linecolor\":\"white\",\"showbackground\":true,\"ticks\":\"\",\"zerolinecolor\":\"white\"}},\"shapedefaults\":{\"line\":{\"color\":\"#2a3f5f\"}},\"ternary\":{\"aaxis\":{\"gridcolor\":\"white\",\"linecolor\":\"white\",\"ticks\":\"\"},\"baxis\":{\"gridcolor\":\"white\",\"linecolor\":\"white\",\"ticks\":\"\"},\"bgcolor\":\"#E5ECF6\",\"caxis\":{\"gridcolor\":\"white\",\"linecolor\":\"white\",\"ticks\":\"\"}},\"title\":{\"x\":0.05},\"xaxis\":{\"automargin\":true,\"gridcolor\":\"white\",\"linecolor\":\"white\",\"ticks\":\"\",\"title\":{\"standoff\":15},\"zerolinecolor\":\"white\",\"zerolinewidth\":2},\"yaxis\":{\"automargin\":true,\"gridcolor\":\"white\",\"linecolor\":\"white\",\"ticks\":\"\",\"title\":{\"standoff\":15},\"zerolinecolor\":\"white\",\"zerolinewidth\":2}}},\"xaxis\":{\"anchor\":\"y\",\"domain\":[0.0,1.0],\"title\":{\"text\":\"Year & Month\"}},\"yaxis\":{\"anchor\":\"x\",\"domain\":[0.0,1.0],\"title\":{\"text\":\"count\"}},\"legend\":{\"title\":{\"text\":\"Category by focal depth\"},\"tracegroupgap\":0},\"title\":{\"text\":\"Earthquake based on Focal Depth\"},\"barmode\":\"relative\"},                        {\"responsive\": true}                    ).then(function(){\n",
              "                            \n",
              "var gd = document.getElementById('f33163a6-ba4e-434e-8db8-fe7f77892f5d');\n",
              "var x = new MutationObserver(function (mutations, observer) {{\n",
              "        var display = window.getComputedStyle(gd).display;\n",
              "        if (!display || display === 'none') {{\n",
              "            console.log([gd, 'removed!']);\n",
              "            Plotly.purge(gd);\n",
              "            observer.disconnect();\n",
              "        }}\n",
              "}});\n",
              "\n",
              "// Listen for the removal of the full notebook cells\n",
              "var notebookContainer = gd.closest('#notebook-container');\n",
              "if (notebookContainer) {{\n",
              "    x.observe(notebookContainer, {childList: true});\n",
              "}}\n",
              "\n",
              "// Listen for the clearing of the current output cell\n",
              "var outputEl = gd.closest('.output');\n",
              "if (outputEl) {{\n",
              "    x.observe(outputEl, {childList: true});\n",
              "}}\n",
              "\n",
              "                        })                };                            </script>        </div>\n",
              "</body>\n",
              "</html>"
            ]
          },
          "metadata": {}
        }
      ]
    },
    {
      "cell_type": "markdown",
      "source": [
        "*The majority of earthquakes detected are shallow (less than 70km). The strength of shaking felt on the earth’s surface from an earthquake diminishes with increasing distance from the earthquake's source. For the same magnitude, the strength of a shallow earthquake is greater than an intermediate or a deep earthquake.*"
      ],
      "metadata": {
        "id": "9-PHmb_UHQKi"
      }
    },
    {
      "cell_type": "code",
      "source": [
        "#Line graph for yearly earthquake occurence\n",
        "df_dep_below250 = df_eq.loc[(df_eq[\"Depth_km\"] <=250)]\n",
        "df_year_dep = df_dep_below250.groupby(['Year','Depth_km'],as_index=False).agg(Frequency=('Mag','count'))\n",
        "df_year_dep.sort_values(by=['Year'])\n",
        "\n",
        "fig_line03 = px.line(data_frame=df_year_dep, x=\"Depth_km\", y=\"Frequency\", color =\"Year\", title=\"Yearly Earthquake Occurrence by Focal Depth\")\n",
        "fig_line03.update_layout(xaxis_title = 'Focal depth (km)')\n",
        "fig_line03.show()"
      ],
      "metadata": {
        "id": "5SVzrHYpkdZD",
        "colab": {
          "base_uri": "https://localhost:8080/",
          "height": 542
        },
        "outputId": "31fb5a34-45b6-49de-f2e8-5b033d5412c0"
      },
      "execution_count": null,
      "outputs": [
        {
          "output_type": "display_data",
          "data": {
            "text/html": [
              "<html>\n",
              "<head><meta charset=\"utf-8\" /></head>\n",
              "<body>\n",
              "    <div>            <script src=\"https://cdnjs.cloudflare.com/ajax/libs/mathjax/2.7.5/MathJax.js?config=TeX-AMS-MML_SVG\"></script><script type=\"text/javascript\">if (window.MathJax) {MathJax.Hub.Config({SVG: {font: \"STIX-Web\"}});}</script>                <script type=\"text/javascript\">window.PlotlyConfig = {MathJaxConfig: 'local'};</script>\n",
              "        <script src=\"https://cdn.plot.ly/plotly-2.8.3.min.js\"></script>                <div id=\"9393cb0a-7b19-42ad-8315-f0f3031ab51b\" class=\"plotly-graph-div\" style=\"height:525px; width:100%;\"></div>            <script type=\"text/javascript\">                                    window.PLOTLYENV=window.PLOTLYENV || {};                                    if (document.getElementById(\"9393cb0a-7b19-42ad-8315-f0f3031ab51b\")) {                    Plotly.newPlot(                        \"9393cb0a-7b19-42ad-8315-f0f3031ab51b\",                        [{\"hovertemplate\":\"Year=2018<br>Depth_km=%{x}<br>Frequency=%{y}<extra></extra>\",\"legendgroup\":\"2018\",\"line\":{\"color\":\"#636efa\",\"dash\":\"solid\"},\"marker\":{\"symbol\":\"circle\"},\"mode\":\"lines\",\"name\":\"2018\",\"showlegend\":true,\"x\":[0,1,2,3,4,5,6,7,8,9,10,11,12,13,14,15,16,17,18,19,20,21,22,23,24,25,26,27,28,29,30,31,32,33,34,35,36,37,38,39,40,41,42,43,44,45,46,47,48,49,50,51,52,53,54,55,56,57,58,59,60,61,62,63,64,65,66,67,68,69,70,71,72,73,74,75,76,77,78,79,80,81,82,83,84,85,86,87,88,89,90,91,92,93,94,95,96,97,98,99,100,101,102,103,104,105,106,107,108,109,110,111,112,113,114,115,116,117,118,119,120,121,122,123,124,125,126,127,128,129,130,131,132,133,134,135,136,137,138,139,140,141,142,143,144,145,146,147,148,149,150,151,152,153,154,155,156,157,158,159,160,161,162,163,164,165,166,167,168,169,170,172,173,174,175,176,177,178,179,180,181,182,183,184,185,186,187,188,189,190,191,192,193,194,196,198,199,200,203,204,207,208,209,213,222],\"xaxis\":\"x\",\"y\":[2,573,124,143,129,102,119,133,128,122,99,123,111,98,98,116,111,108,114,123,136,117,122,129,131,112,123,129,107,139,106,126,181,265,98,33,35,26,26,28,19,30,20,17,15,18,20,21,17,18,20,20,16,9,14,10,13,11,9,13,19,16,15,8,17,20,15,13,5,15,10,14,9,10,9,11,11,11,8,9,13,8,8,14,6,10,14,9,9,13,12,12,7,6,7,6,17,6,7,9,3,11,16,11,10,13,10,9,15,9,12,14,13,19,21,7,11,12,13,12,7,16,9,7,8,13,6,10,8,4,12,10,8,4,7,5,8,7,7,9,5,6,6,4,6,7,7,8,5,7,2,4,4,6,5,5,3,2,3,4,5,2,2,1,3,7,4,1,6,4,3,4,1,2,7,2,1,5,2,3,1,2,1,3,2,1,4,3,1,2,2,4,2,3,1,1,1,1,1,2,1,1,1,1,1],\"yaxis\":\"y\",\"type\":\"scattergl\"},{\"hovertemplate\":\"Year=2019<br>Depth_km=%{x}<br>Frequency=%{y}<extra></extra>\",\"legendgroup\":\"2019\",\"line\":{\"color\":\"#EF553B\",\"dash\":\"solid\"},\"marker\":{\"symbol\":\"circle\"},\"mode\":\"lines\",\"name\":\"2019\",\"showlegend\":true,\"x\":[0,1,2,3,4,5,6,7,8,9,10,11,12,13,14,15,16,17,18,19,20,21,22,23,24,25,26,27,28,29,30,31,32,33,34,35,36,37,38,39,40,41,42,43,44,45,46,47,48,49,50,51,52,53,54,55,56,57,58,59,60,61,62,63,64,65,66,67,68,69,70,71,72,73,74,75,76,77,78,79,80,81,82,83,84,85,86,87,88,89,90,91,92,93,94,95,96,97,98,99,100,101,102,103,104,105,106,107,108,109,110,111,112,113,114,115,116,117,118,119,120,121,122,123,124,125,126,127,128,129,130,131,132,133,134,135,136,137,138,139,140,141,142,143,144,145,146,147,148,149,150,151,152,153,154,155,156,157,158,159,160,161,162,163,164,165,166,167,168,169,170,172,173,174,175,177,178,179,181,182,183,184,185,186,187,188,189,190,191,192,193,194,195,196,197,199,200,201,202,203,204,205,208,209,211,213,217,218],\"xaxis\":\"x\",\"y\":[5,783,240,236,223,244,249,301,306,318,309,275,252,257,223,281,228,273,271,275,352,318,329,298,299,336,306,314,314,327,324,303,458,650,272,149,82,65,50,38,44,39,44,40,37,26,37,33,30,34,25,21,23,29,19,24,26,22,19,27,19,17,22,21,16,22,19,14,14,23,11,13,11,17,17,13,15,13,18,12,12,10,18,12,10,13,12,5,9,18,13,11,12,10,9,7,10,24,13,12,15,10,12,18,13,11,11,12,12,12,18,9,17,19,14,18,12,11,10,17,15,11,13,10,10,7,10,8,10,8,12,13,6,7,10,6,5,6,7,6,9,8,7,7,11,6,3,3,5,4,7,7,5,2,3,5,9,5,1,4,3,2,2,2,3,4,2,6,3,2,1,2,4,4,1,4,1,1,3,3,3,1,3,5,3,3,3,1,3,3,3,3,2,2,3,2,1,1,2,3,1,1,1,1,1,1,1,1],\"yaxis\":\"y\",\"type\":\"scattergl\"},{\"hovertemplate\":\"Year=2020<br>Depth_km=%{x}<br>Frequency=%{y}<extra></extra>\",\"legendgroup\":\"2020\",\"line\":{\"color\":\"#00cc96\",\"dash\":\"solid\"},\"marker\":{\"symbol\":\"circle\"},\"mode\":\"lines\",\"name\":\"2020\",\"showlegend\":true,\"x\":[0,1,2,3,4,5,6,7,8,9,10,11,12,13,14,15,16,17,18,19,20,21,22,23,24,25,26,27,28,29,30,31,32,33,34,35,36,37,38,39,40,41,42,43,44,45,46,47,48,49,50,51,52,53,54,55,56,57,58,59,60,61,62,63,64,65,66,67,68,69,70,71,72,73,74,75,76,77,78,79,80,81,82,83,84,85,86,87,88,89,90,91,92,93,94,95,96,97,98,99,100,101,102,103,104,105,106,107,108,109,110,111,112,113,114,115,116,117,118,119,120,121,122,123,124,125,126,127,128,129,130,131,132,133,134,135,136,137,138,139,140,141,142,143,144,145,146,147,148,149,150,151,152,153,154,155,156,157,158,159,160,161,162,163,164,165,166,167,168,169,170,171,172,173,174,175,176,177,178,179,180,181,182,183,184,185,186,187,188,189,190,191,193,194,195,196,197,198,199,200,203,204,205,206,209,210,211,215,218,219,220,221,223,230,234,235,239,242],\"xaxis\":\"x\",\"y\":[9,1054,301,286,257,303,303,276,324,339,297,303,285,254,263,292,256,283,309,295,272,278,286,271,266,271,304,300,318,280,268,306,437,694,307,145,87,49,65,35,53,33,44,34,35,40,30,37,38,29,32,29,26,29,32,24,21,26,36,20,24,23,23,20,20,21,22,22,23,17,14,18,23,17,13,27,27,9,20,19,14,17,18,17,21,15,14,26,26,15,8,18,17,19,23,22,28,24,31,20,21,33,18,27,22,20,23,26,20,23,28,21,18,22,23,23,25,25,29,29,29,19,17,18,17,22,12,18,11,9,11,19,9,14,11,13,8,14,9,14,7,10,12,6,9,5,11,8,6,5,7,9,6,6,5,7,7,5,5,4,9,5,5,6,4,5,4,4,4,3,5,6,1,2,4,5,8,3,1,5,7,3,3,4,3,2,2,5,2,3,3,5,2,1,1,1,4,4,2,3,2,1,5,2,1,1,1,1,1,1,1,1,1,1,2,1,1,1],\"yaxis\":\"y\",\"type\":\"scattergl\"},{\"hovertemplate\":\"Year=2021<br>Depth_km=%{x}<br>Frequency=%{y}<extra></extra>\",\"legendgroup\":\"2021\",\"line\":{\"color\":\"#ab63fa\",\"dash\":\"solid\"},\"marker\":{\"symbol\":\"circle\"},\"mode\":\"lines\",\"name\":\"2021\",\"showlegend\":true,\"x\":[0,1,2,3,4,5,6,7,8,9,10,11,12,13,14,15,16,17,18,19,20,21,22,23,24,25,26,27,28,29,30,31,32,33,34,35,36,37,38,39,40,41,42,43,44,45,46,47,48,49,50,51,52,53,54,55,56,57,58,59,60,61,62,63,64,65,66,67,68,69,70,71,72,73,74,75,76,77,78,79,80,81,82,83,84,85,86,87,88,89,90,91,92,93,94,95,96,97,98,99,100,101,102,103,104,105,106,107,108,109,110,111,112,113,114,115,116,117,118,119,120,121,122,123,124,125,126,127,128,129,130,131,132,133,134,135,136,137,138,139,140,141,142,143,144,145,146,147,148,149,150,151,152,153,154,155,156,157,158,159,160,161,162,163,164,165,167,168,169,170,171,173,174,175,176,177,178,179,180,181,182,184,185,186,187,188,189,190,191,192,193,194,195,196,197,198,199,201,202,203,205,214,216,219,224,225,237,245,247,248],\"xaxis\":\"x\",\"y\":[1,910,264,226,234,241,226,259,244,236,266,272,240,241,210,297,236,250,261,245,267,248,272,256,263,234,244,218,254,244,241,241,343,459,209,141,62,58,36,38,42,34,24,18,28,27,31,20,36,21,20,19,23,13,17,20,21,17,19,10,27,16,30,24,19,19,13,12,23,31,19,23,25,27,12,16,20,12,21,19,15,12,12,22,15,27,13,20,18,19,24,21,28,27,30,19,29,41,34,39,41,30,34,34,45,25,29,29,25,25,33,31,29,20,17,24,19,19,23,26,16,14,14,12,14,9,15,25,13,9,8,17,8,11,7,8,5,8,13,10,7,9,8,9,9,6,8,5,5,1,6,2,3,10,8,4,4,8,4,1,3,7,7,3,6,6,1,1,1,3,4,2,2,2,5,1,1,3,1,1,1,3,2,2,1,1,3,2,1,3,4,2,1,1,2,2,3,1,2,1,2,1,1,1,1,1,1,1,1,1],\"yaxis\":\"y\",\"type\":\"scattergl\"},{\"hovertemplate\":\"Year=2022<br>Depth_km=%{x}<br>Frequency=%{y}<extra></extra>\",\"legendgroup\":\"2022\",\"line\":{\"color\":\"#FFA15A\",\"dash\":\"solid\"},\"marker\":{\"symbol\":\"circle\"},\"mode\":\"lines\",\"name\":\"2022\",\"showlegend\":true,\"x\":[0,1,2,3,4,5,6,7,8,9,10,11,12,13,14,15,16,17,18,19,20,21,22,23,24,25,26,27,28,29,30,31,32,33,34,35,36,37,38,39,40,41,42,43,44,45,46,47,48,49,50,51,52,53,54,55,56,57,58,59,60,61,62,63,64,65,66,67,68,69,70,71,72,73,74,75,76,77,78,79,80,81,82,83,84,85,86,87,88,89,90,91,92,93,94,95,96,97,98,99,100,101,102,103,104,105,106,107,108,109,110,111,112,113,114,115,116,117,118,119,120,121,122,123,124,125,126,127,128,129,130,131,132,133,134,135,136,137,138,139,140,141,142,143,144,145,146,147,148,149,150,151,152,153,154,155,156,157,158,159,160,161,162,163,164,165,166,167,168,169,170,171,172,173,174,175,176,177,178,179,180,181,182,183,184,185,186,187,188,189,190,191,192,194,196,197,199,200,201,202,203,205,206,211,214,216,217,220,222,223,224,227,231,232,234,236,237,238],\"xaxis\":\"x\",\"y\":[1,1405,361,343,370,392,363,407,388,386,395,316,321,326,235,285,245,295,317,262,313,276,254,272,270,233,229,207,261,264,247,260,393,576,261,157,70,51,48,46,42,31,34,35,36,23,27,27,24,21,19,23,17,33,17,21,17,34,18,24,18,12,23,16,20,17,16,8,21,9,19,16,19,14,19,16,18,16,13,17,15,20,15,19,14,16,16,19,20,23,22,17,32,27,23,21,36,22,28,22,18,29,31,34,27,25,19,20,25,23,29,24,20,30,23,27,19,16,20,24,16,8,14,21,9,21,16,10,8,5,6,9,11,7,15,11,8,8,2,7,7,10,7,9,3,8,6,6,3,3,4,4,2,6,5,4,2,5,2,8,5,6,2,6,1,5,4,3,3,2,3,4,3,1,3,1,6,2,2,5,1,4,2,4,4,4,3,3,1,1,2,1,3,1,1,1,1,1,1,2,4,2,2,1,1,1,2,2,1,1,1,1,1,1,1,1,1,1],\"yaxis\":\"y\",\"type\":\"scattergl\"}],                        {\"template\":{\"data\":{\"bar\":[{\"error_x\":{\"color\":\"#2a3f5f\"},\"error_y\":{\"color\":\"#2a3f5f\"},\"marker\":{\"line\":{\"color\":\"#E5ECF6\",\"width\":0.5},\"pattern\":{\"fillmode\":\"overlay\",\"size\":10,\"solidity\":0.2}},\"type\":\"bar\"}],\"barpolar\":[{\"marker\":{\"line\":{\"color\":\"#E5ECF6\",\"width\":0.5},\"pattern\":{\"fillmode\":\"overlay\",\"size\":10,\"solidity\":0.2}},\"type\":\"barpolar\"}],\"carpet\":[{\"aaxis\":{\"endlinecolor\":\"#2a3f5f\",\"gridcolor\":\"white\",\"linecolor\":\"white\",\"minorgridcolor\":\"white\",\"startlinecolor\":\"#2a3f5f\"},\"baxis\":{\"endlinecolor\":\"#2a3f5f\",\"gridcolor\":\"white\",\"linecolor\":\"white\",\"minorgridcolor\":\"white\",\"startlinecolor\":\"#2a3f5f\"},\"type\":\"carpet\"}],\"choropleth\":[{\"colorbar\":{\"outlinewidth\":0,\"ticks\":\"\"},\"type\":\"choropleth\"}],\"contour\":[{\"colorbar\":{\"outlinewidth\":0,\"ticks\":\"\"},\"colorscale\":[[0.0,\"#0d0887\"],[0.1111111111111111,\"#46039f\"],[0.2222222222222222,\"#7201a8\"],[0.3333333333333333,\"#9c179e\"],[0.4444444444444444,\"#bd3786\"],[0.5555555555555556,\"#d8576b\"],[0.6666666666666666,\"#ed7953\"],[0.7777777777777778,\"#fb9f3a\"],[0.8888888888888888,\"#fdca26\"],[1.0,\"#f0f921\"]],\"type\":\"contour\"}],\"contourcarpet\":[{\"colorbar\":{\"outlinewidth\":0,\"ticks\":\"\"},\"type\":\"contourcarpet\"}],\"heatmap\":[{\"colorbar\":{\"outlinewidth\":0,\"ticks\":\"\"},\"colorscale\":[[0.0,\"#0d0887\"],[0.1111111111111111,\"#46039f\"],[0.2222222222222222,\"#7201a8\"],[0.3333333333333333,\"#9c179e\"],[0.4444444444444444,\"#bd3786\"],[0.5555555555555556,\"#d8576b\"],[0.6666666666666666,\"#ed7953\"],[0.7777777777777778,\"#fb9f3a\"],[0.8888888888888888,\"#fdca26\"],[1.0,\"#f0f921\"]],\"type\":\"heatmap\"}],\"heatmapgl\":[{\"colorbar\":{\"outlinewidth\":0,\"ticks\":\"\"},\"colorscale\":[[0.0,\"#0d0887\"],[0.1111111111111111,\"#46039f\"],[0.2222222222222222,\"#7201a8\"],[0.3333333333333333,\"#9c179e\"],[0.4444444444444444,\"#bd3786\"],[0.5555555555555556,\"#d8576b\"],[0.6666666666666666,\"#ed7953\"],[0.7777777777777778,\"#fb9f3a\"],[0.8888888888888888,\"#fdca26\"],[1.0,\"#f0f921\"]],\"type\":\"heatmapgl\"}],\"histogram\":[{\"marker\":{\"pattern\":{\"fillmode\":\"overlay\",\"size\":10,\"solidity\":0.2}},\"type\":\"histogram\"}],\"histogram2d\":[{\"colorbar\":{\"outlinewidth\":0,\"ticks\":\"\"},\"colorscale\":[[0.0,\"#0d0887\"],[0.1111111111111111,\"#46039f\"],[0.2222222222222222,\"#7201a8\"],[0.3333333333333333,\"#9c179e\"],[0.4444444444444444,\"#bd3786\"],[0.5555555555555556,\"#d8576b\"],[0.6666666666666666,\"#ed7953\"],[0.7777777777777778,\"#fb9f3a\"],[0.8888888888888888,\"#fdca26\"],[1.0,\"#f0f921\"]],\"type\":\"histogram2d\"}],\"histogram2dcontour\":[{\"colorbar\":{\"outlinewidth\":0,\"ticks\":\"\"},\"colorscale\":[[0.0,\"#0d0887\"],[0.1111111111111111,\"#46039f\"],[0.2222222222222222,\"#7201a8\"],[0.3333333333333333,\"#9c179e\"],[0.4444444444444444,\"#bd3786\"],[0.5555555555555556,\"#d8576b\"],[0.6666666666666666,\"#ed7953\"],[0.7777777777777778,\"#fb9f3a\"],[0.8888888888888888,\"#fdca26\"],[1.0,\"#f0f921\"]],\"type\":\"histogram2dcontour\"}],\"mesh3d\":[{\"colorbar\":{\"outlinewidth\":0,\"ticks\":\"\"},\"type\":\"mesh3d\"}],\"parcoords\":[{\"line\":{\"colorbar\":{\"outlinewidth\":0,\"ticks\":\"\"}},\"type\":\"parcoords\"}],\"pie\":[{\"automargin\":true,\"type\":\"pie\"}],\"scatter\":[{\"marker\":{\"colorbar\":{\"outlinewidth\":0,\"ticks\":\"\"}},\"type\":\"scatter\"}],\"scatter3d\":[{\"line\":{\"colorbar\":{\"outlinewidth\":0,\"ticks\":\"\"}},\"marker\":{\"colorbar\":{\"outlinewidth\":0,\"ticks\":\"\"}},\"type\":\"scatter3d\"}],\"scattercarpet\":[{\"marker\":{\"colorbar\":{\"outlinewidth\":0,\"ticks\":\"\"}},\"type\":\"scattercarpet\"}],\"scattergeo\":[{\"marker\":{\"colorbar\":{\"outlinewidth\":0,\"ticks\":\"\"}},\"type\":\"scattergeo\"}],\"scattergl\":[{\"marker\":{\"colorbar\":{\"outlinewidth\":0,\"ticks\":\"\"}},\"type\":\"scattergl\"}],\"scattermapbox\":[{\"marker\":{\"colorbar\":{\"outlinewidth\":0,\"ticks\":\"\"}},\"type\":\"scattermapbox\"}],\"scatterpolar\":[{\"marker\":{\"colorbar\":{\"outlinewidth\":0,\"ticks\":\"\"}},\"type\":\"scatterpolar\"}],\"scatterpolargl\":[{\"marker\":{\"colorbar\":{\"outlinewidth\":0,\"ticks\":\"\"}},\"type\":\"scatterpolargl\"}],\"scatterternary\":[{\"marker\":{\"colorbar\":{\"outlinewidth\":0,\"ticks\":\"\"}},\"type\":\"scatterternary\"}],\"surface\":[{\"colorbar\":{\"outlinewidth\":0,\"ticks\":\"\"},\"colorscale\":[[0.0,\"#0d0887\"],[0.1111111111111111,\"#46039f\"],[0.2222222222222222,\"#7201a8\"],[0.3333333333333333,\"#9c179e\"],[0.4444444444444444,\"#bd3786\"],[0.5555555555555556,\"#d8576b\"],[0.6666666666666666,\"#ed7953\"],[0.7777777777777778,\"#fb9f3a\"],[0.8888888888888888,\"#fdca26\"],[1.0,\"#f0f921\"]],\"type\":\"surface\"}],\"table\":[{\"cells\":{\"fill\":{\"color\":\"#EBF0F8\"},\"line\":{\"color\":\"white\"}},\"header\":{\"fill\":{\"color\":\"#C8D4E3\"},\"line\":{\"color\":\"white\"}},\"type\":\"table\"}]},\"layout\":{\"annotationdefaults\":{\"arrowcolor\":\"#2a3f5f\",\"arrowhead\":0,\"arrowwidth\":1},\"autotypenumbers\":\"strict\",\"coloraxis\":{\"colorbar\":{\"outlinewidth\":0,\"ticks\":\"\"}},\"colorscale\":{\"diverging\":[[0,\"#8e0152\"],[0.1,\"#c51b7d\"],[0.2,\"#de77ae\"],[0.3,\"#f1b6da\"],[0.4,\"#fde0ef\"],[0.5,\"#f7f7f7\"],[0.6,\"#e6f5d0\"],[0.7,\"#b8e186\"],[0.8,\"#7fbc41\"],[0.9,\"#4d9221\"],[1,\"#276419\"]],\"sequential\":[[0.0,\"#0d0887\"],[0.1111111111111111,\"#46039f\"],[0.2222222222222222,\"#7201a8\"],[0.3333333333333333,\"#9c179e\"],[0.4444444444444444,\"#bd3786\"],[0.5555555555555556,\"#d8576b\"],[0.6666666666666666,\"#ed7953\"],[0.7777777777777778,\"#fb9f3a\"],[0.8888888888888888,\"#fdca26\"],[1.0,\"#f0f921\"]],\"sequentialminus\":[[0.0,\"#0d0887\"],[0.1111111111111111,\"#46039f\"],[0.2222222222222222,\"#7201a8\"],[0.3333333333333333,\"#9c179e\"],[0.4444444444444444,\"#bd3786\"],[0.5555555555555556,\"#d8576b\"],[0.6666666666666666,\"#ed7953\"],[0.7777777777777778,\"#fb9f3a\"],[0.8888888888888888,\"#fdca26\"],[1.0,\"#f0f921\"]]},\"colorway\":[\"#636efa\",\"#EF553B\",\"#00cc96\",\"#ab63fa\",\"#FFA15A\",\"#19d3f3\",\"#FF6692\",\"#B6E880\",\"#FF97FF\",\"#FECB52\"],\"font\":{\"color\":\"#2a3f5f\"},\"geo\":{\"bgcolor\":\"white\",\"lakecolor\":\"white\",\"landcolor\":\"#E5ECF6\",\"showlakes\":true,\"showland\":true,\"subunitcolor\":\"white\"},\"hoverlabel\":{\"align\":\"left\"},\"hovermode\":\"closest\",\"mapbox\":{\"style\":\"light\"},\"paper_bgcolor\":\"white\",\"plot_bgcolor\":\"#E5ECF6\",\"polar\":{\"angularaxis\":{\"gridcolor\":\"white\",\"linecolor\":\"white\",\"ticks\":\"\"},\"bgcolor\":\"#E5ECF6\",\"radialaxis\":{\"gridcolor\":\"white\",\"linecolor\":\"white\",\"ticks\":\"\"}},\"scene\":{\"xaxis\":{\"backgroundcolor\":\"#E5ECF6\",\"gridcolor\":\"white\",\"gridwidth\":2,\"linecolor\":\"white\",\"showbackground\":true,\"ticks\":\"\",\"zerolinecolor\":\"white\"},\"yaxis\":{\"backgroundcolor\":\"#E5ECF6\",\"gridcolor\":\"white\",\"gridwidth\":2,\"linecolor\":\"white\",\"showbackground\":true,\"ticks\":\"\",\"zerolinecolor\":\"white\"},\"zaxis\":{\"backgroundcolor\":\"#E5ECF6\",\"gridcolor\":\"white\",\"gridwidth\":2,\"linecolor\":\"white\",\"showbackground\":true,\"ticks\":\"\",\"zerolinecolor\":\"white\"}},\"shapedefaults\":{\"line\":{\"color\":\"#2a3f5f\"}},\"ternary\":{\"aaxis\":{\"gridcolor\":\"white\",\"linecolor\":\"white\",\"ticks\":\"\"},\"baxis\":{\"gridcolor\":\"white\",\"linecolor\":\"white\",\"ticks\":\"\"},\"bgcolor\":\"#E5ECF6\",\"caxis\":{\"gridcolor\":\"white\",\"linecolor\":\"white\",\"ticks\":\"\"}},\"title\":{\"x\":0.05},\"xaxis\":{\"automargin\":true,\"gridcolor\":\"white\",\"linecolor\":\"white\",\"ticks\":\"\",\"title\":{\"standoff\":15},\"zerolinecolor\":\"white\",\"zerolinewidth\":2},\"yaxis\":{\"automargin\":true,\"gridcolor\":\"white\",\"linecolor\":\"white\",\"ticks\":\"\",\"title\":{\"standoff\":15},\"zerolinecolor\":\"white\",\"zerolinewidth\":2}}},\"xaxis\":{\"anchor\":\"y\",\"domain\":[0.0,1.0],\"title\":{\"text\":\"Focal depth (km)\"}},\"yaxis\":{\"anchor\":\"x\",\"domain\":[0.0,1.0],\"title\":{\"text\":\"Frequency\"}},\"legend\":{\"title\":{\"text\":\"Year\"},\"tracegroupgap\":0},\"title\":{\"text\":\"Yearly Earthquake Occurrence by Focal Depth\"}},                        {\"responsive\": true}                    ).then(function(){\n",
              "                            \n",
              "var gd = document.getElementById('9393cb0a-7b19-42ad-8315-f0f3031ab51b');\n",
              "var x = new MutationObserver(function (mutations, observer) {{\n",
              "        var display = window.getComputedStyle(gd).display;\n",
              "        if (!display || display === 'none') {{\n",
              "            console.log([gd, 'removed!']);\n",
              "            Plotly.purge(gd);\n",
              "            observer.disconnect();\n",
              "        }}\n",
              "}});\n",
              "\n",
              "// Listen for the removal of the full notebook cells\n",
              "var notebookContainer = gd.closest('#notebook-container');\n",
              "if (notebookContainer) {{\n",
              "    x.observe(notebookContainer, {childList: true});\n",
              "}}\n",
              "\n",
              "// Listen for the clearing of the current output cell\n",
              "var outputEl = gd.closest('.output');\n",
              "if (outputEl) {{\n",
              "    x.observe(outputEl, {childList: true});\n",
              "}}\n",
              "\n",
              "                        })                };                            </script>        </div>\n",
              "</body>\n",
              "</html>"
            ]
          },
          "metadata": {}
        }
      ]
    },
    {
      "cell_type": "markdown",
      "source": [
        "*Most of the recorded focal depth is less than 5km. However, there is a sudden spike around 30km depth. The continental crust is about 32km on average. Between the Earth’s crust and mantle is the Moho or Mohorovičić discontinuity. It lies at a depth of around 35km. These earthquakes recorded around 30km depth must be originated at the Moho.*"
      ],
      "metadata": {
        "id": "uEyeBlcMGIAn"
      }
    },
    {
      "cell_type": "markdown",
      "source": [
        "# Extract dataframe for interactive map"
      ],
      "metadata": {
        "id": "upkJoVYDJbU_"
      }
    },
    {
      "cell_type": "markdown",
      "source": [
        "*I will make a separate notebook for the map. The cleaned data was extracted and it will be used for the map.*"
      ],
      "metadata": {
        "id": "3wS4vCOUKorP"
      }
    },
    {
      "cell_type": "code",
      "source": [
        "#Extract csv file\n",
        "\n",
        "from google.colab import files\n",
        "df_eq.to_csv('earthquake_18-22_clean.csv', index=False)\n",
        "files.download('earthquake_18-22_clean.csv')"
      ],
      "metadata": {
        "colab": {
          "base_uri": "https://localhost:8080/",
          "height": 34
        },
        "id": "d8FOE-WZY5VL",
        "outputId": "c13e85a9-c975-4d95-e558-65a557d33653"
      },
      "execution_count": null,
      "outputs": [
        {
          "output_type": "display_data",
          "data": {
            "text/plain": [
              "<IPython.core.display.Javascript object>"
            ],
            "application/javascript": [
              "\n",
              "    async function download(id, filename, size) {\n",
              "      if (!google.colab.kernel.accessAllowed) {\n",
              "        return;\n",
              "      }\n",
              "      const div = document.createElement('div');\n",
              "      const label = document.createElement('label');\n",
              "      label.textContent = `Downloading \"${filename}\": `;\n",
              "      div.appendChild(label);\n",
              "      const progress = document.createElement('progress');\n",
              "      progress.max = size;\n",
              "      div.appendChild(progress);\n",
              "      document.body.appendChild(div);\n",
              "\n",
              "      const buffers = [];\n",
              "      let downloaded = 0;\n",
              "\n",
              "      const channel = await google.colab.kernel.comms.open(id);\n",
              "      // Send a message to notify the kernel that we're ready.\n",
              "      channel.send({})\n",
              "\n",
              "      for await (const message of channel.messages) {\n",
              "        // Send a message to notify the kernel that we're ready.\n",
              "        channel.send({})\n",
              "        if (message.buffers) {\n",
              "          for (const buffer of message.buffers) {\n",
              "            buffers.push(buffer);\n",
              "            downloaded += buffer.byteLength;\n",
              "            progress.value = downloaded;\n",
              "          }\n",
              "        }\n",
              "      }\n",
              "      const blob = new Blob(buffers, {type: 'application/binary'});\n",
              "      const a = document.createElement('a');\n",
              "      a.href = window.URL.createObjectURL(blob);\n",
              "      a.download = filename;\n",
              "      div.appendChild(a);\n",
              "      a.click();\n",
              "      div.remove();\n",
              "    }\n",
              "  "
            ]
          },
          "metadata": {}
        },
        {
          "output_type": "display_data",
          "data": {
            "text/plain": [
              "<IPython.core.display.Javascript object>"
            ],
            "application/javascript": [
              "download(\"download_ea5ade21-23ff-4b35-bb04-a31f43f637c7\", \"earthquake_18-22_clean.csv\", 8060672)"
            ]
          },
          "metadata": {}
        }
      ]
    },
    {
      "cell_type": "markdown",
      "source": [
        "# References\n",
        "\n",
        "[1] PHIVOLCS Latest Earthquake Information. (n.d.). Philippine Institute of Volcanology and Seismology. Retrieved from https://earthquake.phivolcs.dost.gov.ph/\n",
        "\n",
        "[2] Philippine Seismic Network 2022_April.jpg - Google Drive. (n.d.). Google Docs; er Philippine Institute of Volcanology and Seismology. Retrieved from https://drive.google.com/file/d/1UCD4TAGHV_Nby9SBqCRQBSE4J_SHFjl4/view?ts=624eb0fc\n",
        "\n",
        "[3] Rafferty, J. P. (2023, February 6). Richter scale. Encyclopedia Britannica. Retrieved from https://www.britannica.com/science/Richter-scale\n",
        "\n",
        "[4] Rajasekaran, S.. (2009). Structural Dynamics of Earthquake Engineering - Theory and Application Using MATHEMATICA and MATLAB - 16.12 Earthquake classification. Woodhead Publishing. Retrieved from\n",
        "https://app.knovel.com/hotlink/pdf/id:kt009L17I6/structural-dynamics-earthquake/asian-tsunami-disaster\n",
        "\n",
        "[5] Spence, W., Sipkin, S., & Choy, G. (n.d.). Determining the Depth of an Earthquake | U.S. Geological Survey. USGS.Gov | Science for a Changing World. Retrieved from https://www.usgs.gov/programs/earthquake-hazards/determining-depth-earthquake#:~:text=Shallow%20earthquakes%20are%20between%200,earthquakes%20deeper%20than%2070%20km.\n",
        "\n",
        "[6] Daintith, John Martin, Elizabeth. (2010). Dictionary of Science (6th Edition) - earth's atmosphere. Oxford University Press. Retrieved from\n",
        "https://app.knovel.com/hotlink/pdf/id:kt007X5XS1/dictionary-science-6th/earths-atmosphere\n",
        "\n",
        "[7] Britannica, T. Editors of Encyclopaedia (2022, January 10). Moho. Encyclopedia Britannica. Retrieved from https://www.britannica.com/science/Moho"
      ],
      "metadata": {
        "id": "Tb2LCbpZ_ltu"
      }
    }
  ]
}